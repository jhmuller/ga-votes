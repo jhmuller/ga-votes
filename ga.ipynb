{
 "cells": [
  {
   "cell_type": "markdown",
   "metadata": {},
   "source": [
    "<span style=\"color:blue\">\n",
    "    \n",
    "---\n",
    "# Analysis of data on the elections in Georgia 2020-11-03\n",
    "    \n",
    "---\n",
    "    \n",
    "</span>    "
   ]
  },
  {
   "cell_type": "code",
   "execution_count": 1,
   "metadata": {},
   "outputs": [
    {
     "data": {
      "text/plain": [
       "datetime.datetime(2020, 12, 25, 2, 23, 48, 564118)"
      ]
     },
     "execution_count": 1,
     "metadata": {},
     "output_type": "execute_result"
    }
   ],
   "source": [
    "import os\n",
    "import sys\n",
    "import inspect\n",
    "import warnings\n",
    "import datetime\n",
    "import time\n",
    "import pdb\n",
    "import xml\n",
    "import re\n",
    "import openpyxl\n",
    "import pandas as pd\n",
    "import numpy as np\n",
    "import matplotlib as mpl\n",
    "import matplotlib.pyplot as plt\n",
    "import plotnine\n",
    "from tqdm import tqdm\n",
    "import collections\n",
    "import zipfile\n",
    "import selenium\n",
    "from selenium import webdriver\n",
    "from selenium.webdriver.support.ui import Select\n",
    "\n",
    "def whoami():\n",
    "    return sys._getframe(1).f_code.co_name\n",
    "now = datetime.datetime.now\n",
    "now()"
   ]
  },
  {
   "cell_type": "markdown",
   "metadata": {},
   "source": [
    "<span style=\"color:blue\">\n",
    "    \n",
    "---\n",
    "## Selenium setup\n",
    "#### for automated download of data files\n",
    "\n",
    "\n",
    "---    \n",
    "    \n",
    " </span></span>"
   ]
  },
  {
   "cell_type": "code",
   "execution_count": 2,
   "metadata": {},
   "outputs": [],
   "source": [
    "# set download directory\n",
    "def chrome_options_download_dir(ddir):\n",
    "    if not os.path.isdir(ddir):\n",
    "        os.mkdir(ddir)\n",
    "    prefs = {\"download.default_directory\" : os.path.abspath(ddir)}\n",
    "\n",
    "    options = webdriver.ChromeOptions()\n",
    "    options.add_experimental_option(\"prefs\",prefs)\n",
    "    options.add_argument(\"download.default_directory=\"+os.path.abspath(ddir))\n",
    "    return options"
   ]
  },
  {
   "cell_type": "markdown",
   "metadata": {},
   "source": [
    "<span style=\"color:blue\">\n",
    "    \n",
    "---\n",
    "\n",
    "## Results by County and VoteType\n",
    "\n",
    "https://results.enr.clarityelections.com/GA/105369/web.264614/#/summary   \n",
    "    or  \n",
    "https://results.enr.clarityelections.com/GA/105369/web.264614/#/detail/10000    \n",
    "\n",
    "\n",
    "another possible source  for the senate race\n",
    "    \n",
    "www.nbcnews.com/politics/2020-special-elections/georgia-senate-results\n",
    "        \n",
    "    \n",
    "---\n",
    "\n",
    "</span>"
   ]
  },
  {
   "cell_type": "code",
   "execution_count": 3,
   "metadata": {
    "code_folding": [
     3
    ]
   },
   "outputs": [],
   "source": [
    "\n",
    "fpath = \"./data/detailxml/detail.xml\"\n",
    "import xml.etree.ElementTree as et \n",
    "def node_msg(node, pref= '', tag=True, attribs=None):\n",
    "    if attribs is None:\n",
    "        attribs = []\n",
    "    if isinstance(attribs, str):\n",
    "        attribs = [attribs]\n",
    "    msg = \"\"\n",
    "    msg += \"{0}{1}  tag: {2}\".format(pref,node, node.tag)\n",
    "    pref = pref+\"  \"    \n",
    "    for at in attribs:\n",
    "        atval = None\n",
    "        if at in node.attrib.keys():\n",
    "            atval = node.attrib[at]\n",
    "        msg += \"\\n{0}{1} '{2}'\".format(pref, at, atval)            \n",
    "    return msg"
   ]
  },
  {
   "cell_type": "code",
   "execution_count": 4,
   "metadata": {
    "code_folding": [
     4,
     10,
     16,
     27,
     47
    ]
   },
   "outputs": [],
   "source": [
    "CountyVoteTup = collections.namedtuple(\"CountyVoteTup\",['CountyName', 'Votes'])\n",
    "VoteTypeTup = collections.namedtuple(\"VoteTypeTup\",    ['CountyName', 'Votes', 'VoteType'])    \n",
    "ChoiceTup = collections.namedtuple(\"ChoiceTup\",        ['CountyName', 'Votes', 'VoteType','Choice'])   \n",
    "ContestTup = collections.namedtuple(\"ContestTup\",      ['CountyName', 'Votes', 'VoteType','Choice', 'Contest'])  \n",
    "def doCountyVote(node):\n",
    "    county_name = node.attrib['name']\n",
    "    votes = int(node.attrib['votes'])\n",
    "    cv_tup = CountyVoteTup(county_name, votes)\n",
    "    return cv_tup\n",
    "def doVoteType(root_node, pref='', verbosity=0):\n",
    "    if verbosity > 0:\n",
    "        print(node_msg(root_node, pref=pref+'  ', attribs='text'))\n",
    "    VoteTypeName = root_node.attrib['name']        \n",
    "    counties = []\n",
    "    votetype_tups = []\n",
    "    for node in root_node:      \n",
    "        if node.tag == \"County\":\n",
    "            cv = doCountyVote(node)\n",
    "            vt = VoteTypeTup(*cv, VoteTypeName)\n",
    "            votetype_tups.append(vt)\n",
    "            counties.append(cv)\n",
    "    res = pd.DataFrame(counties)\n",
    "    res.set_index(\"CountyName\", inplace=True)\n",
    "    res.rename(columns={\"Votes\":VoteTypeName}, inplace=True)\n",
    "    return (res, votetype_tups)\n",
    "def doChoice(root_node, pref='', verbosity=0):\n",
    "    if verbosity > 0:\n",
    "        print(node_msg(root_node, pref=pref+'  ', attribs='text'))   \n",
    "    ChoiceText = root_node.attrib['text']         \n",
    "    res = None\n",
    "    choice_tups = []\n",
    "    for node in root_node:\n",
    "        if node.tag == \"VoteType\":\n",
    "            df, vts = doVoteType(node)\n",
    "            for vt in vts:\n",
    "                choice = ChoiceTup(*vt, ChoiceText)\n",
    "                choice_tups.append(choice)\n",
    "            if res is None:\n",
    "                res = df\n",
    "            else:\n",
    "                res = res.join(df, how=\"left\")             \n",
    "    res['Total'] = res.sum(axis=1)     \n",
    "    res.columns = pd.MultiIndex.from_product([[ChoiceText], res.columns])   \n",
    "    return res, choice_tups\n",
    "def doContest(root_node, pref='', verbosity=0):\n",
    "    if verbosity > 0:\n",
    "        print(node_msg(root_node, pref=pref+'  ', attribs='text'))       \n",
    "    res = None\n",
    "    ContestText = root_node.attrib['text']     \n",
    "    contest_tups = []\n",
    "    for node in root_node:\n",
    "        if node.tag == \"Choice\":\n",
    "            choice, tups = doChoice(node)              \n",
    "            for tup in tups:\n",
    "                contest_tup = ContestTup(*tup, ContestText)\n",
    "                contest_tups.append(contest_tup)\n",
    "            if res is None:\n",
    "                res = choice\n",
    "            else:\n",
    "                res = res.join(choice, how='left')\n",
    "    return (res, contest_tups)"
   ]
  },
  {
   "cell_type": "code",
   "execution_count": 5,
   "metadata": {
    "code_folding": []
   },
   "outputs": [
    {
     "name": "stderr",
     "output_type": "stream",
     "text": [
      "  0%|                                                                                          | 0/303 [00:00<?, ?it/s]"
     ]
    },
    {
     "name": "stdout",
     "output_type": "stream",
     "text": [
      "President of the United States\n",
      "US Senate (Perdue)\n"
     ]
    },
    {
     "name": "stderr",
     "output_type": "stream",
     "text": [
      "100%|██████████████████████████████████████████████████████████████████████████████| 303/303 [00:00<00:00, 1027.60it/s]"
     ]
    },
    {
     "name": "stdout",
     "output_type": "stream",
     "text": [
      "US Senate (Loeffler) - Special\n"
     ]
    },
    {
     "name": "stderr",
     "output_type": "stream",
     "text": [
      "\n"
     ]
    },
    {
     "data": {
      "text/html": [
       "<div>\n",
       "<style scoped>\n",
       "    .dataframe tbody tr th:only-of-type {\n",
       "        vertical-align: middle;\n",
       "    }\n",
       "\n",
       "    .dataframe tbody tr th {\n",
       "        vertical-align: top;\n",
       "    }\n",
       "\n",
       "    .dataframe thead th {\n",
       "        text-align: right;\n",
       "    }\n",
       "</style>\n",
       "<table border=\"1\" class=\"dataframe\">\n",
       "  <thead>\n",
       "    <tr style=\"text-align: right;\">\n",
       "      <th></th>\n",
       "      <th>Votes</th>\n",
       "    </tr>\n",
       "    <tr>\n",
       "      <th>Contest</th>\n",
       "      <th></th>\n",
       "    </tr>\n",
       "  </thead>\n",
       "  <tbody>\n",
       "    <tr>\n",
       "      <th>President of the United States</th>\n",
       "      <td>4998482</td>\n",
       "    </tr>\n",
       "    <tr>\n",
       "      <th>US Senate (Loeffler) - Special</th>\n",
       "      <td>4914361</td>\n",
       "    </tr>\n",
       "    <tr>\n",
       "      <th>US Senate (Perdue)</th>\n",
       "      <td>4952175</td>\n",
       "    </tr>\n",
       "  </tbody>\n",
       "</table>\n",
       "</div>"
      ],
      "text/plain": [
       "                                  Votes\n",
       "Contest                                \n",
       "President of the United States  4998482\n",
       "US Senate (Loeffler) - Special  4914361\n",
       "US Senate (Perdue)              4952175"
      ]
     },
     "execution_count": 5,
     "metadata": {},
     "output_type": "execute_result"
    }
   ],
   "source": [
    "xtree = et.parse(fpath)\n",
    "senate_races = []\n",
    "xroot = xtree.getroot()\n",
    "tups = []\n",
    "contests = {}\n",
    "for i, node in enumerate(tqdm(xroot)): \n",
    "    if node.tag == 'Contest':\n",
    "        if 'text' in node.attrib.keys():\n",
    "            if 'US Senate'  in node.attrib['text'] or \\\n",
    "                'President' in node.attrib['text'] :\n",
    "                contest = node.attrib['text']\n",
    "                res, contest_tups = doContest(node, pref='')\n",
    "                tups.extend(contest_tups)\n",
    "                print(contest)\n",
    "                contests[contest] = res\n",
    "contests.keys()\n",
    "contestsdf = pd.DataFrame(tups)\n",
    "contestsdf['CountyName'] = contestsdf['CountyName'].apply(lambda x: x.upper())\n",
    "contestsdf.groupby(by=\"Contest\").sum()"
   ]
  },
  {
   "cell_type": "code",
   "execution_count": 6,
   "metadata": {},
   "outputs": [
    {
     "name": "stdout",
     "output_type": "stream",
     "text": [
      "['Election Day Votes' 'Absentee by Mail Votes' 'Advanced Voting Votes'\n",
      " 'Provisional Votes']\n"
     ]
    },
    {
     "data": {
      "text/html": [
       "<div>\n",
       "<style scoped>\n",
       "    .dataframe tbody tr th:only-of-type {\n",
       "        vertical-align: middle;\n",
       "    }\n",
       "\n",
       "    .dataframe tbody tr th {\n",
       "        vertical-align: top;\n",
       "    }\n",
       "\n",
       "    .dataframe thead th {\n",
       "        text-align: right;\n",
       "    }\n",
       "</style>\n",
       "<table border=\"1\" class=\"dataframe\">\n",
       "  <thead>\n",
       "    <tr style=\"text-align: right;\">\n",
       "      <th></th>\n",
       "      <th>CountyName</th>\n",
       "      <th>Votes</th>\n",
       "      <th>VoteType</th>\n",
       "      <th>Choice</th>\n",
       "      <th>Contest</th>\n",
       "    </tr>\n",
       "  </thead>\n",
       "  <tbody>\n",
       "    <tr>\n",
       "      <th>0</th>\n",
       "      <td>APPLING</td>\n",
       "      <td>1753</td>\n",
       "      <td>Election Day Votes</td>\n",
       "      <td>Donald J. Trump (I) (Rep)</td>\n",
       "      <td>President of the United States</td>\n",
       "    </tr>\n",
       "    <tr>\n",
       "      <th>1</th>\n",
       "      <td>ATKINSON</td>\n",
       "      <td>716</td>\n",
       "      <td>Election Day Votes</td>\n",
       "      <td>Donald J. Trump (I) (Rep)</td>\n",
       "      <td>President of the United States</td>\n",
       "    </tr>\n",
       "  </tbody>\n",
       "</table>\n",
       "</div>"
      ],
      "text/plain": [
       "  CountyName  Votes            VoteType                     Choice  \\\n",
       "0    APPLING   1753  Election Day Votes  Donald J. Trump (I) (Rep)   \n",
       "1   ATKINSON    716  Election Day Votes  Donald J. Trump (I) (Rep)   \n",
       "\n",
       "                          Contest  \n",
       "0  President of the United States  \n",
       "1  President of the United States  "
      ]
     },
     "execution_count": 6,
     "metadata": {},
     "output_type": "execute_result"
    }
   ],
   "source": [
    "print(contestsdf['VoteType'].unique())\n",
    "contestsdf.head(2)"
   ]
  },
  {
   "cell_type": "code",
   "execution_count": 7,
   "metadata": {},
   "outputs": [
    {
     "data": {
      "text/html": [
       "<div>\n",
       "<style scoped>\n",
       "    .dataframe tbody tr th:only-of-type {\n",
       "        vertical-align: middle;\n",
       "    }\n",
       "\n",
       "    .dataframe tbody tr th {\n",
       "        vertical-align: top;\n",
       "    }\n",
       "\n",
       "    .dataframe thead th {\n",
       "        text-align: right;\n",
       "    }\n",
       "</style>\n",
       "<table border=\"1\" class=\"dataframe\">\n",
       "  <thead>\n",
       "    <tr style=\"text-align: right;\">\n",
       "      <th></th>\n",
       "      <th>VoteType</th>\n",
       "      <th>Choice</th>\n",
       "      <th>Contest</th>\n",
       "      <th>Votes</th>\n",
       "    </tr>\n",
       "  </thead>\n",
       "  <tbody>\n",
       "    <tr>\n",
       "      <th>0</th>\n",
       "      <td>Absentee by Mail Votes</td>\n",
       "      <td>Donald J. Trump (I) (Rep)</td>\n",
       "      <td>President of the United States</td>\n",
       "      <td>451157</td>\n",
       "    </tr>\n",
       "    <tr>\n",
       "      <th>1</th>\n",
       "      <td>Absentee by Mail Votes</td>\n",
       "      <td>Jo Jorgensen (Lib)</td>\n",
       "      <td>President of the United States</td>\n",
       "      <td>16057</td>\n",
       "    </tr>\n",
       "    <tr>\n",
       "      <th>2</th>\n",
       "      <td>Absentee by Mail Votes</td>\n",
       "      <td>Joseph R. Biden (Dem)</td>\n",
       "      <td>President of the United States</td>\n",
       "      <td>849729</td>\n",
       "    </tr>\n",
       "    <tr>\n",
       "      <th>3</th>\n",
       "      <td>Advanced Voting Votes</td>\n",
       "      <td>Donald J. Trump (I) (Rep)</td>\n",
       "      <td>President of the United States</td>\n",
       "      <td>1419161</td>\n",
       "    </tr>\n",
       "    <tr>\n",
       "      <th>4</th>\n",
       "      <td>Advanced Voting Votes</td>\n",
       "      <td>Jo Jorgensen (Lib)</td>\n",
       "      <td>President of the United States</td>\n",
       "      <td>25209</td>\n",
       "    </tr>\n",
       "  </tbody>\n",
       "</table>\n",
       "</div>"
      ],
      "text/plain": [
       "                 VoteType                     Choice  \\\n",
       "0  Absentee by Mail Votes  Donald J. Trump (I) (Rep)   \n",
       "1  Absentee by Mail Votes         Jo Jorgensen (Lib)   \n",
       "2  Absentee by Mail Votes      Joseph R. Biden (Dem)   \n",
       "3   Advanced Voting Votes  Donald J. Trump (I) (Rep)   \n",
       "4   Advanced Voting Votes         Jo Jorgensen (Lib)   \n",
       "\n",
       "                          Contest    Votes  \n",
       "0  President of the United States   451157  \n",
       "1  President of the United States    16057  \n",
       "2  President of the United States   849729  \n",
       "3  President of the United States  1419161  \n",
       "4  President of the United States    25209  "
      ]
     },
     "execution_count": 7,
     "metadata": {},
     "output_type": "execute_result"
    }
   ],
   "source": [
    "grp_contests = contestsdf.groupby(by=['VoteType','Choice', 'Contest']).sum()\n",
    "grp_contests.sort_values(by=['Contest', 'VoteType','Choice'],inplace=True)\n",
    "grp_contests.reset_index(inplace=True)\n",
    "grp_contests.head()"
   ]
  },
  {
   "cell_type": "code",
   "execution_count": 8,
   "metadata": {},
   "outputs": [
    {
     "data": {
      "text/html": [
       "<div>\n",
       "<style scoped>\n",
       "    .dataframe tbody tr th:only-of-type {\n",
       "        vertical-align: middle;\n",
       "    }\n",
       "\n",
       "    .dataframe tbody tr th {\n",
       "        vertical-align: top;\n",
       "    }\n",
       "\n",
       "    .dataframe thead th {\n",
       "        text-align: right;\n",
       "    }\n",
       "</style>\n",
       "<table border=\"1\" class=\"dataframe\">\n",
       "  <thead>\n",
       "    <tr style=\"text-align: right;\">\n",
       "      <th></th>\n",
       "      <th>VoteType</th>\n",
       "      <th>Choice</th>\n",
       "      <th>Contest</th>\n",
       "      <th>Votes</th>\n",
       "    </tr>\n",
       "  </thead>\n",
       "  <tbody>\n",
       "    <tr>\n",
       "      <th>37</th>\n",
       "      <td>Advanced Voting Votes</td>\n",
       "      <td>Deborah Jackson (Dem)</td>\n",
       "      <td>US Senate (Loeffler) - Special</td>\n",
       "      <td>173820</td>\n",
       "    </tr>\n",
       "    <tr>\n",
       "      <th>19</th>\n",
       "      <td>Absentee by Mail Votes</td>\n",
       "      <td>Doug Collins (Rep)</td>\n",
       "      <td>US Senate (Loeffler) - Special</td>\n",
       "      <td>185300</td>\n",
       "    </tr>\n",
       "    <tr>\n",
       "      <th>68</th>\n",
       "      <td>Election Day Votes</td>\n",
       "      <td>Raphael Warnock (Dem)</td>\n",
       "      <td>US Senate (Loeffler) - Special</td>\n",
       "      <td>205110</td>\n",
       "    </tr>\n",
       "    <tr>\n",
       "      <th>59</th>\n",
       "      <td>Election Day Votes</td>\n",
       "      <td>Doug Collins (Rep)</td>\n",
       "      <td>US Senate (Loeffler) - Special</td>\n",
       "      <td>211902</td>\n",
       "    </tr>\n",
       "    <tr>\n",
       "      <th>25</th>\n",
       "      <td>Absentee by Mail Votes</td>\n",
       "      <td>Kelly Loeffler (I) (Rep)</td>\n",
       "      <td>US Senate (Loeffler) - Special</td>\n",
       "      <td>249090</td>\n",
       "    </tr>\n",
       "    <tr>\n",
       "      <th>65</th>\n",
       "      <td>Election Day Votes</td>\n",
       "      <td>Kelly Loeffler (I) (Rep)</td>\n",
       "      <td>US Senate (Loeffler) - Special</td>\n",
       "      <td>298209</td>\n",
       "    </tr>\n",
       "    <tr>\n",
       "      <th>39</th>\n",
       "      <td>Advanced Voting Votes</td>\n",
       "      <td>Doug Collins (Rep)</td>\n",
       "      <td>US Senate (Loeffler) - Special</td>\n",
       "      <td>581871</td>\n",
       "    </tr>\n",
       "    <tr>\n",
       "      <th>28</th>\n",
       "      <td>Absentee by Mail Votes</td>\n",
       "      <td>Raphael Warnock (Dem)</td>\n",
       "      <td>US Senate (Loeffler) - Special</td>\n",
       "      <td>601522</td>\n",
       "    </tr>\n",
       "    <tr>\n",
       "      <th>45</th>\n",
       "      <td>Advanced Voting Votes</td>\n",
       "      <td>Kelly Loeffler (I) (Rep)</td>\n",
       "      <td>US Senate (Loeffler) - Special</td>\n",
       "      <td>724577</td>\n",
       "    </tr>\n",
       "    <tr>\n",
       "      <th>48</th>\n",
       "      <td>Advanced Voting Votes</td>\n",
       "      <td>Raphael Warnock (Dem)</td>\n",
       "      <td>US Senate (Loeffler) - Special</td>\n",
       "      <td>807005</td>\n",
       "    </tr>\n",
       "  </tbody>\n",
       "</table>\n",
       "</div>"
      ],
      "text/plain": [
       "                  VoteType                    Choice  \\\n",
       "37   Advanced Voting Votes     Deborah Jackson (Dem)   \n",
       "19  Absentee by Mail Votes        Doug Collins (Rep)   \n",
       "68      Election Day Votes     Raphael Warnock (Dem)   \n",
       "59      Election Day Votes        Doug Collins (Rep)   \n",
       "25  Absentee by Mail Votes  Kelly Loeffler (I) (Rep)   \n",
       "65      Election Day Votes  Kelly Loeffler (I) (Rep)   \n",
       "39   Advanced Voting Votes        Doug Collins (Rep)   \n",
       "28  Absentee by Mail Votes     Raphael Warnock (Dem)   \n",
       "45   Advanced Voting Votes  Kelly Loeffler (I) (Rep)   \n",
       "48   Advanced Voting Votes     Raphael Warnock (Dem)   \n",
       "\n",
       "                           Contest   Votes  \n",
       "37  US Senate (Loeffler) - Special  173820  \n",
       "19  US Senate (Loeffler) - Special  185300  \n",
       "68  US Senate (Loeffler) - Special  205110  \n",
       "59  US Senate (Loeffler) - Special  211902  \n",
       "25  US Senate (Loeffler) - Special  249090  \n",
       "65  US Senate (Loeffler) - Special  298209  \n",
       "39  US Senate (Loeffler) - Special  581871  \n",
       "28  US Senate (Loeffler) - Special  601522  \n",
       "45  US Senate (Loeffler) - Special  724577  \n",
       "48  US Senate (Loeffler) - Special  807005  "
      ]
     },
     "execution_count": 8,
     "metadata": {},
     "output_type": "execute_result"
    }
   ],
   "source": [
    "grp_contests.loc[grp_contests['Contest'].str.contains('President'),]\n",
    "grp_contests.sort_values(by=\"Votes\", inplace=True)\n",
    "grp_contests.loc[grp_contests['Contest'].str.contains('Loeffler'),].tail(10)"
   ]
  },
  {
   "cell_type": "code",
   "execution_count": 9,
   "metadata": {},
   "outputs": [
    {
     "data": {
      "text/html": [
       "<div>\n",
       "<style scoped>\n",
       "    .dataframe tbody tr th:only-of-type {\n",
       "        vertical-align: middle;\n",
       "    }\n",
       "\n",
       "    .dataframe tbody tr th {\n",
       "        vertical-align: top;\n",
       "    }\n",
       "\n",
       "    .dataframe thead th {\n",
       "        text-align: right;\n",
       "    }\n",
       "</style>\n",
       "<table border=\"1\" class=\"dataframe\">\n",
       "  <thead>\n",
       "    <tr style=\"text-align: right;\">\n",
       "      <th></th>\n",
       "      <th>Votes</th>\n",
       "    </tr>\n",
       "    <tr>\n",
       "      <th>CountyName</th>\n",
       "      <th></th>\n",
       "    </tr>\n",
       "  </thead>\n",
       "  <tbody>\n",
       "    <tr>\n",
       "      <th>FULTON</th>\n",
       "      <td>524659</td>\n",
       "    </tr>\n",
       "    <tr>\n",
       "      <th>GWINNETT</th>\n",
       "      <td>413865</td>\n",
       "    </tr>\n",
       "    <tr>\n",
       "      <th>COBB</th>\n",
       "      <td>393746</td>\n",
       "    </tr>\n",
       "    <tr>\n",
       "      <th>DEKALB</th>\n",
       "      <td>370804</td>\n",
       "    </tr>\n",
       "  </tbody>\n",
       "</table>\n",
       "</div>"
      ],
      "text/plain": [
       "             Votes\n",
       "CountyName        \n",
       "FULTON      524659\n",
       "GWINNETT    413865\n",
       "COBB        393746\n",
       "DEKALB      370804"
      ]
     },
     "execution_count": 9,
     "metadata": {},
     "output_type": "execute_result"
    }
   ],
   "source": [
    "presdf = contestsdf[contestsdf['Contest'].str.contains(\"President\")]\n",
    "presByCounty = presdf[[\"CountyName\", \"Votes\"]].groupby(\"CountyName\").sum()\n",
    "presByCounty.sort_values(by=\"Votes\", ascending=False, inplace=True)\n",
    "presByCounty.head(4)"
   ]
  },
  {
   "cell_type": "code",
   "execution_count": 10,
   "metadata": {},
   "outputs": [
    {
     "name": "stdout",
     "output_type": "stream",
     "text": [
      "Votes counted by Vote Type\n",
      "                          Votes   Pct\n",
      "VoteType                             \n",
      "Absentee by Mail Votes  1316943  26.3\n",
      "Advanced Voting Votes   2694879  53.9\n",
      "Election Day Votes       975540  19.5\n",
      "Provisional Votes         11120   0.2\n",
      "------\n",
      "Total votes counted (millions): 4.998482\n"
     ]
    }
   ],
   "source": [
    "loefflerdf = contestsdf[contestsdf['Contest'].str.contains(\"Loeffler\")]\n",
    "purduedf = contestsdf[contestsdf['Contest'].str.contains(\"Loeffler\")]\n",
    "if True:\n",
    "    gdf = presdf[['VoteType', 'Votes', 'Contest']].groupby('VoteType').sum() \n",
    "    gdf[\"Pct\"] = 100*np.round(gdf / gdf.sum(),3)\n",
    "    print(\"Votes counted by Vote Type\")\n",
    "    print(gdf)\n",
    "    print(\"------\")\n",
    "    print(\"Total votes counted (millions): {0}\".format(gdf[\"Votes\"].sum()/10.0**6))"
   ]
  },
  {
   "cell_type": "code",
   "execution_count": 11,
   "metadata": {},
   "outputs": [
    {
     "data": {
      "text/html": [
       "<div>\n",
       "<style scoped>\n",
       "    .dataframe tbody tr th:only-of-type {\n",
       "        vertical-align: middle;\n",
       "    }\n",
       "\n",
       "    .dataframe tbody tr th {\n",
       "        vertical-align: top;\n",
       "    }\n",
       "\n",
       "    .dataframe thead th {\n",
       "        text-align: right;\n",
       "    }\n",
       "</style>\n",
       "<table border=\"1\" class=\"dataframe\">\n",
       "  <thead>\n",
       "    <tr style=\"text-align: right;\">\n",
       "      <th></th>\n",
       "      <th>Votes</th>\n",
       "    </tr>\n",
       "    <tr>\n",
       "      <th>CountyName</th>\n",
       "      <th></th>\n",
       "    </tr>\n",
       "  </thead>\n",
       "  <tbody>\n",
       "    <tr>\n",
       "      <th>FULTON</th>\n",
       "      <td>1563044</td>\n",
       "    </tr>\n",
       "    <tr>\n",
       "      <th>GWINNETT</th>\n",
       "      <td>1227786</td>\n",
       "    </tr>\n",
       "    <tr>\n",
       "      <th>COBB</th>\n",
       "      <td>1173481</td>\n",
       "    </tr>\n",
       "    <tr>\n",
       "      <th>DEKALB</th>\n",
       "      <td>1105580</td>\n",
       "    </tr>\n",
       "  </tbody>\n",
       "</table>\n",
       "</div>"
      ],
      "text/plain": [
       "              Votes\n",
       "CountyName         \n",
       "FULTON      1563044\n",
       "GWINNETT    1227786\n",
       "COBB        1173481\n",
       "DEKALB      1105580"
      ]
     },
     "execution_count": 11,
     "metadata": {},
     "output_type": "execute_result"
    }
   ],
   "source": [
    "votesByCounty = contestsdf[[\"CountyName\", \"Votes\"]].groupby(\"CountyName\").sum()\n",
    "votesByCounty.sort_values(by=\"Votes\", ascending=False, inplace=True)\n",
    "votesByCounty.head(4)"
   ]
  },
  {
   "cell_type": "markdown",
   "metadata": {},
   "source": [
    "<span style=\"color:blue\">\n",
    "    \n",
    "---\n",
    "    \n",
    "# Registered voters by County, Age, Race\n",
    "    \n",
    "https://sos.ga.gov/index.php/Elections/voter_registration_statistics\n",
    "    \n",
    "---\n",
    "    \n",
    "</span>"
   ]
  },
  {
   "cell_type": "code",
   "execution_count": 12,
   "metadata": {
    "code_folding": [
     4,
     6
    ]
   },
   "outputs": [
    {
     "name": "stdout",
     "output_type": "stream",
     "text": [
      "{'AI': 'AMERICAN INDIAN OR ALASKAN NATIVE', 'AP': 'ASIAN OR PACIFIC ISLANDER', 'BH': 'BLACK NOT OF HISPANIC ORIGIN', 'HP': 'HISPANIC', 'WH': 'WHITE NOT OF HISPANIC ORIGIN', 'OT': 'OTHER', 'UK': 'UNKNOWN'}\n"
     ]
    }
   ],
   "source": [
    "if True:\n",
    "    dpath = \"./data/\"\n",
    "    voterfile = \"Active_Voters_by_Race_Gender_and_Age_as_of_November_1_2020.xlsx\"\n",
    "    voterpath = os.path.join(dpath, voterfile)\n",
    "    if not os.path.isdir(dpath):\n",
    "        warnings.warn(\"{0} is not a directory\".format(dpath))\n",
    "    if not os.path.isfile(voterpath):\n",
    "        warnings.warn(\"No file {0} in dir {1}\".format(voterfile, dpath))\n",
    "    with open(voterpath) as vp:\n",
    "        racedf = pd.read_excel(voterpath, nrows=7, engine='openpyxl').iloc[:,:2]\n",
    "        racedf.columns = [\"RaceCode\", \"RaceDescription\"]\n",
    "        racedf[\"RaceCode\"] = racedf[\"RaceCode\"].apply(lambda x: x[:-2])\n",
    "        racedf.set_index(\"RaceCode\", inplace=True)\n",
    "        race = racedf.squeeze()\n",
    "        race_dict = race.to_dict()\n",
    "        print(race_dict)"
   ]
  },
  {
   "cell_type": "code",
   "execution_count": 13,
   "metadata": {
    "code_folding": []
   },
   "outputs": [
    {
     "name": "stdout",
     "output_type": "stream",
     "text": [
      "1594 rows 24 cols\n"
     ]
    },
    {
     "data": {
      "text/html": [
       "<div>\n",
       "<style scoped>\n",
       "    .dataframe tbody tr th:only-of-type {\n",
       "        vertical-align: middle;\n",
       "    }\n",
       "\n",
       "    .dataframe tbody tr th {\n",
       "        vertical-align: top;\n",
       "    }\n",
       "\n",
       "    .dataframe thead th {\n",
       "        text-align: right;\n",
       "    }\n",
       "</style>\n",
       "<table border=\"1\" class=\"dataframe\">\n",
       "  <thead>\n",
       "    <tr style=\"text-align: right;\">\n",
       "      <th></th>\n",
       "      <th>CountyName</th>\n",
       "      <th>VOTER-AGE-RANGE</th>\n",
       "      <th>AMERICAN-MALE-VOTERS</th>\n",
       "      <th>AMERICAN-FEMALE-VOTERS</th>\n",
       "      <th>AMERICAN-UNKNOWN-VOTERS</th>\n",
       "      <th>ASIAN-MALE-VOTERS</th>\n",
       "      <th>ASIAN-FEMALE-VOTERS</th>\n",
       "      <th>ASIAN-UNKNOWN-VOTERS</th>\n",
       "      <th>BLACK-MALE-VOTERS</th>\n",
       "      <th>BLACK-FEMALE-VOTERS</th>\n",
       "      <th>...</th>\n",
       "      <th>WHITE-MALE-VOTERS</th>\n",
       "      <th>WHITE-FEMALE-VOTERS</th>\n",
       "      <th>WHITE-UNKNOWN-VOTERS</th>\n",
       "      <th>OTHER-MALE-VOTERS</th>\n",
       "      <th>OTHER-FEMALE-VOTERS</th>\n",
       "      <th>OTHER-UNKNOWN-VOTERS</th>\n",
       "      <th>UNKNOWN-MALE-VOTERS</th>\n",
       "      <th>UNKNOWN-FEMALE-VOTERS</th>\n",
       "      <th>UNKNOWN-UNKNOWN-VOTERS</th>\n",
       "      <th>TotalVoters</th>\n",
       "    </tr>\n",
       "  </thead>\n",
       "  <tbody>\n",
       "    <tr>\n",
       "      <th>0</th>\n",
       "      <td>APPLING</td>\n",
       "      <td>18-24</td>\n",
       "      <td>2</td>\n",
       "      <td>1</td>\n",
       "      <td>0</td>\n",
       "      <td>3</td>\n",
       "      <td>5</td>\n",
       "      <td>0</td>\n",
       "      <td>120</td>\n",
       "      <td>110</td>\n",
       "      <td>...</td>\n",
       "      <td>436</td>\n",
       "      <td>429</td>\n",
       "      <td>1</td>\n",
       "      <td>5</td>\n",
       "      <td>19</td>\n",
       "      <td>0</td>\n",
       "      <td>95</td>\n",
       "      <td>60</td>\n",
       "      <td>2</td>\n",
       "      <td>1374</td>\n",
       "    </tr>\n",
       "    <tr>\n",
       "      <th>1</th>\n",
       "      <td>APPLING</td>\n",
       "      <td>25-29</td>\n",
       "      <td>0</td>\n",
       "      <td>0</td>\n",
       "      <td>0</td>\n",
       "      <td>4</td>\n",
       "      <td>1</td>\n",
       "      <td>0</td>\n",
       "      <td>81</td>\n",
       "      <td>89</td>\n",
       "      <td>...</td>\n",
       "      <td>282</td>\n",
       "      <td>298</td>\n",
       "      <td>1</td>\n",
       "      <td>3</td>\n",
       "      <td>7</td>\n",
       "      <td>0</td>\n",
       "      <td>38</td>\n",
       "      <td>30</td>\n",
       "      <td>0</td>\n",
       "      <td>866</td>\n",
       "    </tr>\n",
       "  </tbody>\n",
       "</table>\n",
       "<p>2 rows × 24 columns</p>\n",
       "</div>"
      ],
      "text/plain": [
       "  CountyName VOTER-AGE-RANGE  AMERICAN-MALE-VOTERS  AMERICAN-FEMALE-VOTERS  \\\n",
       "0    APPLING           18-24                     2                       1   \n",
       "1    APPLING           25-29                     0                       0   \n",
       "\n",
       "   AMERICAN-UNKNOWN-VOTERS  ASIAN-MALE-VOTERS  ASIAN-FEMALE-VOTERS  \\\n",
       "0                        0                  3                    5   \n",
       "1                        0                  4                    1   \n",
       "\n",
       "   ASIAN-UNKNOWN-VOTERS  BLACK-MALE-VOTERS  BLACK-FEMALE-VOTERS  ...  \\\n",
       "0                     0                120                  110  ...   \n",
       "1                     0                 81                   89  ...   \n",
       "\n",
       "   WHITE-MALE-VOTERS  WHITE-FEMALE-VOTERS  WHITE-UNKNOWN-VOTERS  \\\n",
       "0                436                  429                     1   \n",
       "1                282                  298                     1   \n",
       "\n",
       "   OTHER-MALE-VOTERS  OTHER-FEMALE-VOTERS  OTHER-UNKNOWN-VOTERS  \\\n",
       "0                  5                   19                     0   \n",
       "1                  3                    7                     0   \n",
       "\n",
       "   UNKNOWN-MALE-VOTERS  UNKNOWN-FEMALE-VOTERS  UNKNOWN-UNKNOWN-VOTERS  \\\n",
       "0                   95                     60                       2   \n",
       "1                   38                     30                       0   \n",
       "\n",
       "   TotalVoters  \n",
       "0         1374  \n",
       "1          866  \n",
       "\n",
       "[2 rows x 24 columns]"
      ]
     },
     "execution_count": 13,
     "metadata": {},
     "output_type": "execute_result"
    }
   ],
   "source": [
    "\n",
    "votersdf = pd.read_excel(voterpath, skiprows=8, engine='openpyxl')\n",
    "if votersdf.columns[-1] != \"TOTAL VOTERS\":\n",
    "    votersdf = votersdf.iloc[:,:-1]\n",
    "colnames = [re.sub(\"\\s+\", \"-\", c.strip()) for c in votersdf.columns]\n",
    "votersdf.columns = colnames\n",
    "\n",
    "votersdf.drop('COUNTY-ID', axis=1, inplace=True)    \n",
    "votersdf = votersdf.loc[votersdf[\"COUNTY-NAME\"].notna()]\n",
    "colname_parts = [c.split(\"-\") for c in votersdf.columns]\n",
    "newnames = []\n",
    "\n",
    "for parts in colname_parts:\n",
    "    newparts = parts\n",
    "    if parts[0]  in race_dict.keys():\n",
    "        newparts = [race_dict[parts[0]].split(\" \")[0]] + parts[1:]\n",
    "    newnames.append(\"-\".join(newparts))\n",
    "votersdf.columns = newnames\n",
    "votersdf.rename(columns={\"COUNTY-NAME\":\"CountyName\", \n",
    "                        'TOTAL-VOTERS':'TotalVoters'}, inplace=True)\n",
    "votersdf['CountyName'] = votersdf['CountyName'].apply(lambda x: x.upper())\n",
    "print(\"{0} rows {1} cols\".format(*votersdf.shape))\n",
    "votersdf.head(2)"
   ]
  },
  {
   "cell_type": "code",
   "execution_count": 14,
   "metadata": {},
   "outputs": [
    {
     "data": {
      "text/plain": [
       "TotalVoters    int64\n",
       "dtype: object"
      ]
     },
     "execution_count": 14,
     "metadata": {},
     "output_type": "execute_result"
    }
   ],
   "source": [
    "gcols = [\"CountyName\"]\n",
    "votersByCounty = votersdf[[\"CountyName\", 'TotalVoters' ]].groupby(by=gcols).sum()\n",
    "votersByCounty.sort_values(by=\"TotalVoters\", ascending=False, inplace=True)\n",
    "votersByCounty.dtypes"
   ]
  },
  {
   "cell_type": "markdown",
   "metadata": {},
   "source": [
    "<span style=\"color:blue\">\n",
    "    \n",
    "---\n",
    "    \n",
    "# Combining Voters and Votes by County\n",
    "    \n",
    "---\n",
    "    \n",
    "</span>"
   ]
  },
  {
   "cell_type": "code",
   "execution_count": 15,
   "metadata": {},
   "outputs": [
    {
     "name": "stdout",
     "output_type": "stream",
     "text": [
      "['FULTON' 'GWINNETT' 'COBB' 'DEKALB' 'CHEROKEE' 'CHATHAM' 'FORSYTH'\n",
      " 'HENRY' 'CLAYTON' 'HALL']\n",
      "['FULTON' 'GWINNETT' 'DEKALB' 'COBB' 'CHATHAM' 'CLAYTON' 'CHEROKEE'\n",
      " 'HENRY' 'FORSYTH' 'RICHMOND']\n"
     ]
    }
   ],
   "source": [
    "print(presByCounty.index.values[:10])\n",
    "print(votersByCounty.index.values[:10])\n"
   ]
  },
  {
   "cell_type": "code",
   "execution_count": 16,
   "metadata": {},
   "outputs": [
    {
     "data": {
      "text/html": [
       "<div>\n",
       "<style scoped>\n",
       "    .dataframe tbody tr th:only-of-type {\n",
       "        vertical-align: middle;\n",
       "    }\n",
       "\n",
       "    .dataframe tbody tr th {\n",
       "        vertical-align: top;\n",
       "    }\n",
       "\n",
       "    .dataframe thead th {\n",
       "        text-align: right;\n",
       "    }\n",
       "</style>\n",
       "<table border=\"1\" class=\"dataframe\">\n",
       "  <thead>\n",
       "    <tr style=\"text-align: right;\">\n",
       "      <th></th>\n",
       "      <th>Votes</th>\n",
       "      <th>TotalVoters</th>\n",
       "      <th>PctVoted</th>\n",
       "    </tr>\n",
       "    <tr>\n",
       "      <th>CountyName</th>\n",
       "      <th></th>\n",
       "      <th></th>\n",
       "      <th></th>\n",
       "    </tr>\n",
       "  </thead>\n",
       "  <tbody>\n",
       "    <tr>\n",
       "      <th>HALL</th>\n",
       "      <td>90523</td>\n",
       "      <td>128535</td>\n",
       "      <td>70.427</td>\n",
       "    </tr>\n",
       "    <tr>\n",
       "      <th>CLAYTON</th>\n",
       "      <td>112344</td>\n",
       "      <td>194338</td>\n",
       "      <td>57.809</td>\n",
       "    </tr>\n",
       "    <tr>\n",
       "      <th>HENRY</th>\n",
       "      <td>122742</td>\n",
       "      <td>172241</td>\n",
       "      <td>71.262</td>\n",
       "    </tr>\n",
       "    <tr>\n",
       "      <th>FORSYTH</th>\n",
       "      <td>129305</td>\n",
       "      <td>164279</td>\n",
       "      <td>78.711</td>\n",
       "    </tr>\n",
       "    <tr>\n",
       "      <th>CHATHAM</th>\n",
       "      <td>133420</td>\n",
       "      <td>202999</td>\n",
       "      <td>65.724</td>\n",
       "    </tr>\n",
       "    <tr>\n",
       "      <th>CHEROKEE</th>\n",
       "      <td>144830</td>\n",
       "      <td>190605</td>\n",
       "      <td>75.984</td>\n",
       "    </tr>\n",
       "    <tr>\n",
       "      <th>DEKALB</th>\n",
       "      <td>370804</td>\n",
       "      <td>547802</td>\n",
       "      <td>67.689</td>\n",
       "    </tr>\n",
       "    <tr>\n",
       "      <th>COBB</th>\n",
       "      <td>393746</td>\n",
       "      <td>537659</td>\n",
       "      <td>73.233</td>\n",
       "    </tr>\n",
       "    <tr>\n",
       "      <th>GWINNETT</th>\n",
       "      <td>413865</td>\n",
       "      <td>582917</td>\n",
       "      <td>70.999</td>\n",
       "    </tr>\n",
       "    <tr>\n",
       "      <th>FULTON</th>\n",
       "      <td>524659</td>\n",
       "      <td>808742</td>\n",
       "      <td>64.873</td>\n",
       "    </tr>\n",
       "  </tbody>\n",
       "</table>\n",
       "</div>"
      ],
      "text/plain": [
       "             Votes  TotalVoters  PctVoted\n",
       "CountyName                               \n",
       "HALL         90523       128535    70.427\n",
       "CLAYTON     112344       194338    57.809\n",
       "HENRY       122742       172241    71.262\n",
       "FORSYTH     129305       164279    78.711\n",
       "CHATHAM     133420       202999    65.724\n",
       "CHEROKEE    144830       190605    75.984\n",
       "DEKALB      370804       547802    67.689\n",
       "COBB        393746       537659    73.233\n",
       "GWINNETT    413865       582917    70.999\n",
       "FULTON      524659       808742    64.873"
      ]
     },
     "execution_count": 16,
     "metadata": {},
     "output_type": "execute_result"
    }
   ],
   "source": [
    "presCombo = presByCounty.join(votersByCounty)\n",
    "presCombo[\"PctVoted\"] = np.round(100*presCombo['Votes'] / presCombo['TotalVoters'],3)\n",
    "presCombo.sort_values(by=\"Votes\", inplace=True)\n",
    "presCombo.tail(10)"
   ]
  },
  {
   "cell_type": "markdown",
   "metadata": {},
   "source": [
    "<span style=\"color:blue\">\n",
    "    \n",
    "---\n",
    "    \n",
    "# Voter Registration\n",
    "    \n",
    "### File has a record for *each* registered voter\n",
    "    \n",
    "https://elections.sos.ga.gov/Elections/voterhistory.do\n",
    "\n",
    "---\n",
    "    \n",
    "</span>"
   ]
  },
  {
   "cell_type": "code",
   "execution_count": 17,
   "metadata": {},
   "outputs": [],
   "source": [
    "def get_individual_voter_reg_files(download_dir, verbosity=0):\n",
    "    if verbosity > 0:\n",
    "        print(\"{0} download_dir= {1}, <{2}>\".format(whoami(), download_dir,\n",
    "                                                   datetime.datetime.now()))\n",
    "    options = chrome_options_download_dir(download_dir)    \n",
    "    chromedriver_path = os.path.join('chromedriver.exe')\n",
    "    driver = webdriver.Chrome(executable_path=chromedriver_path, options=options)\n",
    "    url = \"https://elections.sos.ga.gov/Elections/voterhistory.do\"\n",
    "    driver.get(url)\n",
    "    # find year selector and select 2020\n",
    "    year_select = Select(driver.find_element_by_id(\"nbElecYear\"))\n",
    "    year_select.select_by_value(\"2020\")\n",
    "    # find the election selector and select 11/03/2020\n",
    "    elec_select = Select(driver.find_element_by_id(\"idElection\"))\n",
    "    elec_select.select_by_visible_text(\"11/03/2020 - NOVEMBER 3, 2020 GENERAL/SPECIAL ELECTION\")\n",
    "    # find the elecCat selector and select StaeWide\n",
    "    cat_select = Select(driver.find_element_by_id(\"cdElecCat\"))\n",
    "    cat_select.select_by_visible_text(\"STATE WIDE\")\n",
    "    time.sleep(0.5)\n",
    "    # click on button to download 2020 file\n",
    "    if verbosity > 0:\n",
    "        print(\"  downloading 2020 file\")\n",
    "    driver.find_element_by_partial_link_text(\"2020\").click()\n",
    "    time.sleep(0.5)\n",
    "    fname = \"2020.zip\"\n",
    "    max_wait_secs = 9\n",
    "    file_there = False\n",
    "    start_dt = datetime.datetime.now()\n",
    "    if verbosity > 0:\n",
    "        print(\"looking for file {0} in {1}\".format(fname, download_dir))\n",
    "    while not file_there:\n",
    "        files = os.listdir(download_dir)\n",
    "        if fname in files:\n",
    "            if verbosity > 0:\n",
    "                print(\"  Found it '{0}'\".format(fname))\n",
    "            file_there = True\n",
    "            break\n",
    "        cur_dt = datetime.datetime.now()\n",
    "        if verbosity > 0:\n",
    "            print(\"  Not there yet <{0}>\".format(cur_dt))\n",
    "        time.sleep(1)\n",
    "        if (cur_dt - start_dt).total_seconds() > max_wait_secs:\n",
    "            if verbosity > 0:\n",
    "                print(\"{0} not in {1}, can't wait any longer\".format(fname, download_dir))\n",
    "            break\n",
    "    if file_there:\n",
    "        if verbosity > 0:\n",
    "            print(\" Unzipping {0} to {1}\".format(fname, download_dir))\n",
    "        fpath = os.path.join(download_dir, fname)\n",
    "        zpath = os.path.join(download_dir, fname.split(\".\")[0])\n",
    "        with zipfile.ZipFile(fpath, 'r') as zip_ref:\n",
    "            zip_ref.extractall(zpath)    \n",
    "    #click on button to download County files\n",
    "    if verbosity > 0:\n",
    "        print(\"  downloading county file\")    \n",
    "    driver.find_element_by_partial_link_text(\"County Number\").click() \n",
    "    time.sleep(1)\n",
    "    if verbosity > 0:\n",
    "        print(\"Done {0}\".format(datetime.datetime.now()))\n",
    "    \n",
    "    "
   ]
  },
  {
   "cell_type": "code",
   "execution_count": 18,
   "metadata": {},
   "outputs": [
    {
     "name": "stdout",
     "output_type": "stream",
     "text": [
      "Detailed registerd voter data for 2020 in the file '2020.TXT' in the directory ./data/\n"
     ]
    }
   ],
   "source": [
    "data_path = \"./data\"\n",
    "elems = os.listdir(data_path)\n",
    "if \"2020\" not in elems:\n",
    "    get_individual_voter_reg_files(download_dir=data_path, verbosity=1)\n",
    "data_path = \"./data/2020\"    \n",
    "if not os.path.isdir(data_path):\n",
    "    warnings.warn(\"2020 data not there, Somthing wrong\")\n",
    "else:\n",
    "    elems_2020 = os.listdir(data_path)\n",
    "    fname = \"2020.TXT\"\n",
    "    fpath = os.path.join(data_path, fname)\n",
    "    if fname not in elems_2020:\n",
    "        warnings.warn(\"{0} not found\".format(fname))\n",
    "    elif not os.path.isfile(fpath):\n",
    "        warnings.warn(\"{0} not a file\".format(fname))\n",
    "    else:\n",
    "        fpath = os.path.join(data_path, fname)\n",
    "        print(\"Detailed registerd voter data for 2020 in the file '{0}' in the directory {1}\".format(fname, dpath))"
   ]
  },
  {
   "cell_type": "code",
   "execution_count": 19,
   "metadata": {},
   "outputs": [],
   "source": [
    "ElectionType = {\n",
    "'001':'GENERAL PRIMARY',\n",
    "'002':'GENERAL PRIMARY RUN-OFF',\n",
    "'003':'GENERAL',\n",
    "'004':'GENERAL ELECTION RUNOFF',\n",
    "'005':'SPECIAL ELECTION',\n",
    "'006':'SPECIAL RUNOFF',\n",
    "'007':'NON- PARTISAN',\n",
    "'008':'SPECIAL/NON-PARTISAN',\n",
    "'009':'RECALL',\n",
    "'010':'PPP'\n",
    "}\n",
    "#SPECIAL PRIMARY RUNOFF\n",
    "#SPECIAL PRIMARY"
   ]
  },
  {
   "cell_type": "markdown",
   "metadata": {},
   "source": [
    "## Pandas has a method for reading in fixed width data\n",
    "\n",
    "panda.read_fwf\n"
   ]
  },
  {
   "cell_type": "code",
   "execution_count": 20,
   "metadata": {},
   "outputs": [],
   "source": [
    "# Pandas has a method for readin in fixed width data\n",
    "# the pandas.read_fwf\n",
    "# tried it, not working so well, need to tell it no header\n",
    "#for now still use the brute force method below\n",
    "if False:\n",
    "    field_lens = {'county_num':3,\n",
    "            'registration_num':8,\n",
    "            'election_date':8,\n",
    "            'election_type': 3,\n",
    "            'party': 2,\n",
    "            'absentee':1,\n",
    "            'provisional':1,\n",
    "            'supplemental':1}\n",
    "    x = pd.read_fwf(fpath, widths = field_lens.values(), names=field_lens.keys())\n",
    "    x.head()"
   ]
  },
  {
   "cell_type": "code",
   "execution_count": 21,
   "metadata": {},
   "outputs": [
    {
     "name": "stdout",
     "output_type": "stream",
     "text": [
      "2020.TXT had 8454089 lines, minlen 0, maxlen 27\n"
     ]
    }
   ],
   "source": [
    "with open(fpath, mode='r') as fp:\n",
    "    txt = fp.read()\n",
    "voter_lines = txt.split('\\n')\n",
    "minlen = min([len(l) for l in voter_lines])\n",
    "maxlen = max([len(l) for l in voter_lines])\n",
    "print(\"{0} had {1} lines, minlen {2}, maxlen {3}\".format(fname, len(voter_lines), minlen, maxlen))"
   ]
  },
  {
   "cell_type": "code",
   "execution_count": null,
   "metadata": {},
   "outputs": [],
   "source": [
    "import numpy as np\n",
    "\n",
    "DELIMITER = (20, 10, 10, 20, 10, 10, 20)\n",
    "\n",
    "idx = np.cumsum([0] + list(DELIMITER))\n",
    "slices = [slice(i, j) for (i, j) in zip(idx[:-1], idx[1:])]\n",
    "\n",
    "def parse(line):\n",
    "    return [line[s] for s in slices]"
   ]
  },
  {
   "cell_type": "code",
   "execution_count": 27,
   "metadata": {},
   "outputs": [
    {
     "name": "stderr",
     "output_type": "stream",
     "text": [
      "100%|████████████████████████████████████████████████████████████████████| 8454089/8454089 [00:20<00:00, 407799.81it/s]\n",
      "100%|████████████████████████████████████████████████████████████████████| 8454089/8454089 [00:30<00:00, 276145.56it/s]\n"
     ]
    },
    {
     "name": "stdout",
     "output_type": "stream",
     "text": [
      "[ContestTup(CountyName='Appling', Votes=1753, VoteType='Election Day Votes', Choice='Donald J. Trump (I) (Rep)', Contest='President of the United States'), ContestTup(CountyName='Atkinson', Votes=716, VoteType='Election Day Votes', Choice='Donald J. Trump (I) (Rep)', Contest='President of the United States')]\n"
     ]
    }
   ],
   "source": [
    "def parse_voter_lines(lines=None):\n",
    "    from collections import namedtuple\n",
    "    from collections import OrderedDict\n",
    "    field_dict = {'county_num':3,\n",
    "                'registration_num':8,\n",
    "                'election_date':8,\n",
    "                'election_type': 3,\n",
    "                'party': 2,\n",
    "                'absentee':1,\n",
    "                'provisional':1,\n",
    "                'supplemental':1}\n",
    "    field_widths = field_dict.values()\n",
    "    field_names =  field_dict.keys()\n",
    "\n",
    "    #print(field_lens.keys())\n",
    "    VoterRec = namedtuple(\"VoterRec\", field_dict.keys() )\n",
    "    expected_len = sum(field_dict.values())\n",
    "\n",
    "    # parse slices\n",
    "    stups = []\n",
    "    def parse_slices(line, slices):\n",
    "        return [line[s] for s in slices]      \n",
    "    widths = field_dict.values()\n",
    "    idx = np.cumsum([0] + list(widths))\n",
    "    slices = [slice(i, j) for (i, j) in zip(idx[:-1], idx[1:])]    \n",
    "    for i, line in enumerate(tqdm(lines)):\n",
    "        if len(line) != expected_len:\n",
    "            msg = \"{0} len={1}, line={2}\".format(i, len(line), line)\n",
    "            continue\n",
    "        data = parse_slices(line, slices)\n",
    "        vr = VoterRec(*data)\n",
    "        stups .append(vr)        \n",
    "        \n",
    "    # parse fields    \n",
    "    ftups = []    \n",
    "    def parse_fields(line, field_dict):\n",
    "        start = 0\n",
    "        data = {}\n",
    "        for k in field_dict.keys():\n",
    "            width = field_dict[k]\n",
    "            elem = line[start:(start+width)]\n",
    "            data[k] = elem\n",
    "            start += width\n",
    "        return data\n",
    "    for i, line in enumerate(tqdm(lines)):\n",
    "        if len(line) != expected_len:\n",
    "            msg = \"{0} len={1}, line={2}\".format(i, len(line), line)\n",
    "            continue\n",
    "        tup = parse_fields(line, field_dict)\n",
    "        vr = VoterRec(**tup)\n",
    "        ftups .append(vr)\n",
    "\n",
    "    fdf = pd.DataFrame(ftups)\n",
    "    sdf = pd.DataFrame(stups)\n",
    "    return fdf, sdf, ftups, stups\n",
    "\n",
    "regdf1, regdf2, ftups, stups = parse_voter_lines(lines=voter_lines)\n",
    "print(tups[:2])\n"
   ]
  },
  {
   "cell_type": "code",
   "execution_count": 28,
   "metadata": {},
   "outputs": [
    {
     "name": "stdout",
     "output_type": "stream",
     "text": [
      "8454088  8\n",
      "  county_num registration_num election_date election_type party absentee  \\\n",
      "0        067         02788924      20200324           005              N   \n",
      "1        067         05761105      20200324           005              N   \n",
      "\n",
      "  provisional supplemental  \n",
      "0           N            N  \n",
      "1           N            N  \n",
      "8454088  8\n",
      "  county_num registration_num election_date election_type party absentee  \\\n",
      "0        067         02788924      20200324           005              N   \n",
      "1        067         05761105      20200324           005              N   \n",
      "\n",
      "  provisional supplemental  \n",
      "0           N            N  \n",
      "1           N            N  \n"
     ]
    }
   ],
   "source": [
    "for df in (regdf1, regdf2):\n",
    "    print(\"{0}  {1}\".format(df.shape[0], df.shape[1]))\n",
    "    print(df.head(2))"
   ]
  },
  {
   "cell_type": "code",
   "execution_count": 32,
   "metadata": {},
   "outputs": [
    {
     "name": "stderr",
     "output_type": "stream",
     "text": [
      "  0%|                                                                                            | 0/3 [00:00<?, ?it/s]"
     ]
    },
    {
     "name": "stdout",
     "output_type": "stream",
     "text": [
      "5007405 rows for election type = 003\n",
      "     county_num registration_num election_date election_type party absentee  \\\n",
      "5419        019         00591608      20201103           003              Y   \n",
      "5420        027         00430264      20201103           003              Y   \n",
      "\n",
      "     provisional supplemental  \n",
      "5419           N            N  \n",
      "5420           N            N  \n",
      "converting 'absentee'\n",
      "5007405 5007405\n"
     ]
    },
    {
     "name": "stderr",
     "output_type": "stream",
     "text": [
      "<ipython-input-32-635951d2033b>:11: SettingWithCopyWarning: \n",
      "A value is trying to be set on a copy of a slice from a DataFrame.\n",
      "Try using .loc[row_indexer,col_indexer] = value instead\n",
      "\n",
      "See the caveats in the documentation: https://pandas.pydata.org/pandas-docs/stable/user_guide/indexing.html#returning-a-view-versus-a-copy\n",
      " 33%|████████████████████████████                                                        | 1/3 [00:01<00:03,  1.98s/it]"
     ]
    },
    {
     "name": "stdout",
     "output_type": "stream",
     "text": [
      "converting 'provisional'\n",
      "5007405 5007405\n"
     ]
    },
    {
     "name": "stderr",
     "output_type": "stream",
     "text": [
      " 67%|████████████████████████████████████████████████████████                            | 2/3 [00:03<00:01,  1.98s/it]"
     ]
    },
    {
     "name": "stdout",
     "output_type": "stream",
     "text": [
      "converting 'supplemental'\n",
      "5007405 5007405\n"
     ]
    },
    {
     "name": "stderr",
     "output_type": "stream",
     "text": [
      "100%|████████████████████████████████████████████████████████████████████████████████████| 3/3 [00:05<00:00,  1.97s/it]\n",
      "<ipython-input-32-635951d2033b>:12: SettingWithCopyWarning: \n",
      "A value is trying to be set on a copy of a slice from a DataFrame.\n",
      "Try using .loc[row_indexer,col_indexer] = value instead\n",
      "\n",
      "See the caveats in the documentation: https://pandas.pydata.org/pandas-docs/stable/user_guide/indexing.html#returning-a-view-versus-a-copy\n"
     ]
    },
    {
     "name": "stdout",
     "output_type": "stream",
     "text": [
      "     county_num registration_num election_date election_type party  absentee  \\\n",
      "5419        019         00591608      20201103           003               1   \n",
      "5420        027         00430264      20201103           003               1   \n",
      "\n",
      "      provisional  supplemental  sum  other  \n",
      "5419            0             0    1      0  \n",
      "5420            0             0    1      0  \n"
     ]
    },
    {
     "name": "stderr",
     "output_type": "stream",
     "text": [
      "<ipython-input-32-635951d2033b>:13: SettingWithCopyWarning: \n",
      "A value is trying to be set on a copy of a slice from a DataFrame.\n",
      "Try using .loc[row_indexer,col_indexer] = value instead\n",
      "\n",
      "See the caveats in the documentation: https://pandas.pydata.org/pandas-docs/stable/user_guide/indexing.html#returning-a-view-versus-a-copy\n"
     ]
    }
   ],
   "source": [
    "etype = '003'\n",
    "gendf = regdf1.loc[regdf1['election_type'] == etype]\n",
    "print(\"{0} rows for election type = {1}\".format(gendf.shape[0], etype))\n",
    "print(gendf.head(2))\n",
    "cnames = ['absentee', 'provisional', 'supplemental']\n",
    "\n",
    "for name in tqdm(cnames, smoothing=0.2):\n",
    "    print(\"converting '{0}'\".format(name))\n",
    "    temp = gendf[name].apply(lambda x: int(x=='Y'))\n",
    "    print(\"{0} {1}\".format(len(temp), gendf.shape[0]))\n",
    "    gendf[name] = temp\n",
    "gendf['sum'] = gendf[cnames].sum(axis=1) \n",
    "gendf['other'] = gendf['sum'].apply(lambda x: int(x==0))\n",
    "print(gendf.head(2))"
   ]
  },
  {
   "cell_type": "code",
   "execution_count": 35,
   "metadata": {},
   "outputs": [
    {
     "data": {
      "text/plain": [
       "absentee  provisional  supplemental  other\n",
       "1         0            0             0        4018963\n",
       "0         0            0             1         981659\n",
       "          1            0             0           6477\n",
       "          0            1             0            165\n",
       "1         1            0             0            124\n",
       "0         1            1             0             12\n",
       "1         1            1             0              4\n",
       "          0            1             0              1\n",
       "dtype: int64"
      ]
     },
     "execution_count": 35,
     "metadata": {},
     "output_type": "execute_result"
    }
   ],
   "source": [
    "vtypes = cnames + ['other']\n",
    "gendf[vtypes].value_counts()"
   ]
  },
  {
   "cell_type": "code",
   "execution_count": 46,
   "metadata": {},
   "outputs": [
    {
     "name": "stderr",
     "output_type": "stream",
     "text": [
      "<ipython-input-46-394ad742e9d4>:5: SettingWithCopyWarning: \n",
      "A value is trying to be set on a copy of a slice from a DataFrame.\n",
      "Try using .loc[row_indexer,col_indexer] = value instead\n",
      "\n",
      "See the caveats in the documentation: https://pandas.pydata.org/pandas-docs/stable/user_guide/indexing.html#returning-a-view-versus-a-copy\n"
     ]
    },
    {
     "data": {
      "text/html": [
       "<div>\n",
       "<style scoped>\n",
       "    .dataframe tbody tr th:only-of-type {\n",
       "        vertical-align: middle;\n",
       "    }\n",
       "\n",
       "    .dataframe tbody tr th {\n",
       "        vertical-align: top;\n",
       "    }\n",
       "\n",
       "    .dataframe thead th {\n",
       "        text-align: right;\n",
       "    }\n",
       "</style>\n",
       "<table border=\"1\" class=\"dataframe\">\n",
       "  <thead>\n",
       "    <tr style=\"text-align: right;\">\n",
       "      <th></th>\n",
       "      <th>county_num</th>\n",
       "      <th>registration_num</th>\n",
       "      <th>election_date</th>\n",
       "      <th>election_type</th>\n",
       "      <th>party</th>\n",
       "      <th>absentee</th>\n",
       "      <th>provisional</th>\n",
       "      <th>supplemental</th>\n",
       "      <th>absentee_int</th>\n",
       "      <th>provisional_int</th>\n",
       "      <th>supplemental_int</th>\n",
       "    </tr>\n",
       "  </thead>\n",
       "  <tbody>\n",
       "    <tr>\n",
       "      <th>5419</th>\n",
       "      <td>019</td>\n",
       "      <td>00591608</td>\n",
       "      <td>20201103</td>\n",
       "      <td>003</td>\n",
       "      <td></td>\n",
       "      <td>Y</td>\n",
       "      <td>N</td>\n",
       "      <td>N</td>\n",
       "      <td>1</td>\n",
       "      <td>0</td>\n",
       "      <td>0</td>\n",
       "    </tr>\n",
       "    <tr>\n",
       "      <th>5420</th>\n",
       "      <td>027</td>\n",
       "      <td>00430264</td>\n",
       "      <td>20201103</td>\n",
       "      <td>003</td>\n",
       "      <td></td>\n",
       "      <td>Y</td>\n",
       "      <td>N</td>\n",
       "      <td>N</td>\n",
       "      <td>1</td>\n",
       "      <td>0</td>\n",
       "      <td>0</td>\n",
       "    </tr>\n",
       "  </tbody>\n",
       "</table>\n",
       "</div>"
      ],
      "text/plain": [
       "     county_num registration_num election_date election_type party absentee  \\\n",
       "5419        019         00591608      20201103           003              Y   \n",
       "5420        027         00430264      20201103           003              Y   \n",
       "\n",
       "     provisional supplemental  absentee_int  provisional_int  supplemental_int  \n",
       "5419           N            N             1                0                 0  \n",
       "5420           N            N             1                0                 0  "
      ]
     },
     "execution_count": 46,
     "metadata": {},
     "output_type": "execute_result"
    }
   ],
   "source": [
    "gendf['other_int'] = [1 if gendf[]]\n",
    "gendf[inames].sum()\n",
    "gendf.head(2)"
   ]
  },
  {
   "cell_type": "code",
   "execution_count": 49,
   "metadata": {},
   "outputs": [
    {
     "name": "stdout",
     "output_type": "stream",
     "text": [
      "millions of rows  5.007405\n"
     ]
    },
    {
     "name": "stderr",
     "output_type": "stream",
     "text": [
      "<ipython-input-49-65212c856066>:2: SettingWithCopyWarning: \n",
      "A value is trying to be set on a copy of a slice from a DataFrame.\n",
      "Try using .loc[row_indexer,col_indexer] = value instead\n",
      "\n",
      "See the caveats in the documentation: https://pandas.pydata.org/pandas-docs/stable/user_guide/indexing.html#returning-a-view-versus-a-copy\n"
     ]
    },
    {
     "name": "stdout",
     "output_type": "stream",
     "text": [
      "4025605\n",
      "(5007405, 12)\n"
     ]
    }
   ],
   "source": [
    "print(\"millions of rows  {0}\".format(gendf.shape[0]/10.0**6))\n",
    "gendf['typesum'] = gendf[inames].sum(axis=1)\n",
    "gendf.head()\n",
    "print(gendf.shape[0] - gendf.loc[gendf['typesum'] != 1].shape[0])\n",
    "print(gendf.shape)\n",
    "#print(gendf[inames].sum().sum())"
   ]
  },
  {
   "cell_type": "code",
   "execution_count": 55,
   "metadata": {},
   "outputs": [],
   "source": [
    "allcols = ['county_num', 'election_date', 'party', 'absentee_int', 'provisional_int', 'supplemental_int']\n",
    "gcols = ['county_num', 'election_date', 'party']           \n",
    "gdf = gendf[allcols].groupby(by=gcols).sum()\n"
   ]
  },
  {
   "cell_type": "code",
   "execution_count": 56,
   "metadata": {},
   "outputs": [
    {
     "data": {
      "text/html": [
       "<div>\n",
       "<style scoped>\n",
       "    .dataframe tbody tr th:only-of-type {\n",
       "        vertical-align: middle;\n",
       "    }\n",
       "\n",
       "    .dataframe tbody tr th {\n",
       "        vertical-align: top;\n",
       "    }\n",
       "\n",
       "    .dataframe thead th {\n",
       "        text-align: right;\n",
       "    }\n",
       "</style>\n",
       "<table border=\"1\" class=\"dataframe\">\n",
       "  <thead>\n",
       "    <tr style=\"text-align: right;\">\n",
       "      <th></th>\n",
       "      <th></th>\n",
       "      <th></th>\n",
       "      <th>absentee_int</th>\n",
       "      <th>provisional_int</th>\n",
       "      <th>supplemental_int</th>\n",
       "    </tr>\n",
       "    <tr>\n",
       "      <th>county_num</th>\n",
       "      <th>election_date</th>\n",
       "      <th>party</th>\n",
       "      <th></th>\n",
       "      <th></th>\n",
       "      <th></th>\n",
       "    </tr>\n",
       "  </thead>\n",
       "  <tbody>\n",
       "    <tr>\n",
       "      <th rowspan=\"2\" valign=\"top\">001</th>\n",
       "      <th>20201103</th>\n",
       "      <th></th>\n",
       "      <td>6300</td>\n",
       "      <td>2</td>\n",
       "      <td>0</td>\n",
       "    </tr>\n",
       "    <tr>\n",
       "      <th>20201204</th>\n",
       "      <th></th>\n",
       "      <td>1</td>\n",
       "      <td>0</td>\n",
       "      <td>0</td>\n",
       "    </tr>\n",
       "    <tr>\n",
       "      <th>002</th>\n",
       "      <th>20201103</th>\n",
       "      <th></th>\n",
       "      <td>2184</td>\n",
       "      <td>0</td>\n",
       "      <td>0</td>\n",
       "    </tr>\n",
       "    <tr>\n",
       "      <th>003</th>\n",
       "      <th>20201103</th>\n",
       "      <th></th>\n",
       "      <td>4093</td>\n",
       "      <td>0</td>\n",
       "      <td>0</td>\n",
       "    </tr>\n",
       "    <tr>\n",
       "      <th>004</th>\n",
       "      <th>20201103</th>\n",
       "      <th></th>\n",
       "      <td>1114</td>\n",
       "      <td>2</td>\n",
       "      <td>0</td>\n",
       "    </tr>\n",
       "    <tr>\n",
       "      <th>...</th>\n",
       "      <th>...</th>\n",
       "      <th>...</th>\n",
       "      <td>...</td>\n",
       "      <td>...</td>\n",
       "      <td>...</td>\n",
       "    </tr>\n",
       "    <tr>\n",
       "      <th>155</th>\n",
       "      <th>20201103</th>\n",
       "      <th></th>\n",
       "      <td>24838</td>\n",
       "      <td>64</td>\n",
       "      <td>0</td>\n",
       "    </tr>\n",
       "    <tr>\n",
       "      <th>156</th>\n",
       "      <th>20201103</th>\n",
       "      <th></th>\n",
       "      <td>2250</td>\n",
       "      <td>0</td>\n",
       "      <td>0</td>\n",
       "    </tr>\n",
       "    <tr>\n",
       "      <th>157</th>\n",
       "      <th>20201103</th>\n",
       "      <th></th>\n",
       "      <td>3790</td>\n",
       "      <td>5</td>\n",
       "      <td>0</td>\n",
       "    </tr>\n",
       "    <tr>\n",
       "      <th>158</th>\n",
       "      <th>20201103</th>\n",
       "      <th></th>\n",
       "      <td>2937</td>\n",
       "      <td>0</td>\n",
       "      <td>34</td>\n",
       "    </tr>\n",
       "    <tr>\n",
       "      <th>159</th>\n",
       "      <th>20201103</th>\n",
       "      <th></th>\n",
       "      <td>5926</td>\n",
       "      <td>0</td>\n",
       "      <td>0</td>\n",
       "    </tr>\n",
       "  </tbody>\n",
       "</table>\n",
       "<p>171 rows × 3 columns</p>\n",
       "</div>"
      ],
      "text/plain": [
       "                                absentee_int  provisional_int  \\\n",
       "county_num election_date party                                  \n",
       "001        20201103                     6300                2   \n",
       "           20201204                        1                0   \n",
       "002        20201103                     2184                0   \n",
       "003        20201103                     4093                0   \n",
       "004        20201103                     1114                2   \n",
       "...                                      ...              ...   \n",
       "155        20201103                    24838               64   \n",
       "156        20201103                     2250                0   \n",
       "157        20201103                     3790                5   \n",
       "158        20201103                     2937                0   \n",
       "159        20201103                     5926                0   \n",
       "\n",
       "                                supplemental_int  \n",
       "county_num election_date party                    \n",
       "001        20201103                            0  \n",
       "           20201204                            0  \n",
       "002        20201103                            0  \n",
       "003        20201103                            0  \n",
       "004        20201103                            0  \n",
       "...                                          ...  \n",
       "155        20201103                            0  \n",
       "156        20201103                            0  \n",
       "157        20201103                            0  \n",
       "158        20201103                           34  \n",
       "159        20201103                            0  \n",
       "\n",
       "[171 rows x 3 columns]"
      ]
     },
     "execution_count": 56,
     "metadata": {},
     "output_type": "execute_result"
    }
   ],
   "source": [
    "gdf"
   ]
  },
  {
   "cell_type": "code",
   "execution_count": null,
   "metadata": {},
   "outputs": [],
   "source": [
    "fpath = os.path.join('.',\"data\")\n",
    "fname = \"County_Number_List.pdf\"\n",
    "# Creating a pdf file object.\n",
    "pdf = open(fpath, mode=\"rb\")\n",
    " \n",
    "# Creating pdf reader object.\n",
    "pdf_reader = PyPDF2.PdfFileReader(pdf)\n",
    " \n",
    "# Checking total number of pages in a pdf file.\n",
    "print(\"Total number of Pages:\", pdf_reader.numPages)\n",
    " \n",
    "# Creating a page object.\n",
    "page = pdf_reader.getPage(200)\n",
    " \n",
    "# Extract data from a specific page number.\n",
    "print(page.extractText())\n",
    " \n",
    "# Closing the object.\n",
    "pdf.close()"
   ]
  },
  {
   "cell_type": "code",
   "execution_count": null,
   "metadata": {},
   "outputs": [],
   "source": [
    "# Election Types\n",
    "election_types = {\n",
    "    '001':'GENERAL PRIMARY',\n",
    "    '002':'GENERAL PRIMARY RUN-OFF',\n",
    "    '003':'GENERAL',\n",
    "    '004':'GENERAL ELECTION RUNOFF',\n",
    "    '005':'SPECIAL ELECTION',\n",
    "    '006':'SPECIAL RUNOFF',\n",
    "    '007':'NON- PARTISAN',\n",
    "    '008':'SPECIAL/NON-PARTISAN',\n",
    "    '009': ' RECALL',\n",
    "    '010': 'PPP'\n",
    "    #SPECIAL PRIMARY RUNOFF\n",
    "    #SPECIAL PRIMARY\n",
    "    }"
   ]
  },
  {
   "cell_type": "code",
   "execution_count": null,
   "metadata": {},
   "outputs": [],
   "source": [
    "gcols = ['election_date', 'election_type']\n",
    "df.groupby(gcols).count()"
   ]
  },
  {
   "cell_type": "code",
   "execution_count": null,
   "metadata": {},
   "outputs": [],
   "source": [
    "fpath = os.path.join(os.getcwd(),\"data\")\n",
    "fname = \"County_Number_List.pdf\"\n",
    "if not os.path.isfile(os.path.join(fpath, fname)):\n",
    "    if not os.path.isdir(fpath):\n",
    "        warnings.warn(\"{0} not a directory\".format(fpath))\n",
    "    elif fname not in os.listdir(fpath):\n",
    "        warnings.warn(\"{0} not a file in {1}\".format(fname, fpath))\n",
    "table = tabula.read_pdf(fpath,pages=1)\n",
    "table[0]"
   ]
  },
  {
   "cell_type": "code",
   "execution_count": null,
   "metadata": {},
   "outputs": [],
   "source": []
  }
 ],
 "metadata": {
  "kernelspec": {
   "display_name": "general",
   "language": "python",
   "name": "general"
  },
  "language_info": {
   "codemirror_mode": {
    "name": "ipython",
    "version": 3
   },
   "file_extension": ".py",
   "mimetype": "text/x-python",
   "name": "python",
   "nbconvert_exporter": "python",
   "pygments_lexer": "ipython3",
   "version": "3.9.1"
  }
 },
 "nbformat": 4,
 "nbformat_minor": 4
}
