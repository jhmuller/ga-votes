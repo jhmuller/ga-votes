{
 "cells": [
  {
   "cell_type": "markdown",
   "metadata": {},
   "source": [
    "<span style=\"color:blue\">\n",
    "    \n",
    "---\n",
    "# Analysis of data on the elections in Georgia 2020-11-03\n",
    "    \n",
    "---\n",
    "    \n",
    "</span>    "
   ]
  },
  {
   "cell_type": "markdown",
   "metadata": {},
   "source": [
    "<span style=\"color:blue\">\n",
    "    \n",
    "---\n",
    "\n",
    "## Results by County and VoteType\n",
    "\n",
    "https://results.enr.clarityelections.com/GA/105369/web.264614/#/summary   \n",
    "    or  \n",
    "https://results.enr.clarityelections.com/GA/105369/web.264614/#/detail/10000    \n",
    "\n",
    "\n",
    "another possible source  for the senate race\n",
    "    \n",
    "www.nbcnews.com/politics/2020-special-elections/georgia-senate-results\n",
    "        \n",
    "    \n",
    "---\n",
    "\n",
    "</span>"
   ]
  },
  {
   "cell_type": "code",
   "execution_count": 71,
   "metadata": {},
   "outputs": [],
   "source": [
    "import os\n",
    "import sys\n",
    "import warnings\n",
    "import datetime\n",
    "import pdb\n",
    "import xml\n",
    "import openpyxl\n",
    "import pandas as pd\n",
    "import numpy as np\n",
    "import matplotlib as mpl\n",
    "import matplotlib.pyplot as plt\n",
    "import plotnine\n",
    "from tqdm import tqdm\n",
    "import collections\n",
    "now = datetime.datetime.now"
   ]
  },
  {
   "cell_type": "code",
   "execution_count": 51,
   "metadata": {
    "code_folding": [
     3
    ]
   },
   "outputs": [],
   "source": [
    "\n",
    "fpath = \"./data/detailxml/detail.xml\"\n",
    "import xml.etree.ElementTree as et \n",
    "def node_msg(node, pref= '', tag=True, attribs=None):\n",
    "    if attribs is None:\n",
    "        attribs = []\n",
    "    if isinstance(attribs, str):\n",
    "        attribs = [attribs]\n",
    "    msg = \"\"\n",
    "    msg += \"{0}{1}  tag: {2}\".format(pref,node, node.tag)\n",
    "    pref = pref+\"  \"    \n",
    "    for at in attribs:\n",
    "        atval = None\n",
    "        if at in node.attrib.keys():\n",
    "            atval = node.attrib[at]\n",
    "        msg += \"\\n{0}{1} '{2}'\".format(pref, at, atval)            \n",
    "    return msg"
   ]
  },
  {
   "cell_type": "code",
   "execution_count": 52,
   "metadata": {
    "code_folding": [
     4,
     10,
     16,
     27,
     47
    ]
   },
   "outputs": [],
   "source": [
    "CountyVoteTup = collections.namedtuple(\"CountyVoteTup\",['CountyName', 'Votes'])\n",
    "VoteTypeTup = collections.namedtuple(\"VoteTypeTup\",    ['CountyName', 'Votes', 'VoteType'])    \n",
    "ChoiceTup = collections.namedtuple(\"ChoiceTup\",        ['CountyName', 'Votes', 'VoteType','Choice'])   \n",
    "ContestTup = collections.namedtuple(\"ContestTup\",      ['CountyName', 'Votes', 'VoteType','Choice', 'Contest'])  \n",
    "def doCountyVote(node):\n",
    "    county_name = node.attrib['name']\n",
    "    votes = int(node.attrib['votes'])\n",
    "    cv_tup = CountyVoteTup(county_name, votes)\n",
    "    return cv_tup\n",
    "def doVoteType(root_node, pref='', verbosity=0):\n",
    "    if verbosity > 0:\n",
    "        print(node_msg(root_node, pref=pref+'  ', attribs='text'))\n",
    "    VoteTypeName = root_node.attrib['name']        \n",
    "    counties = []\n",
    "    votetype_tups = []\n",
    "    for node in root_node:      \n",
    "        if node.tag == \"County\":\n",
    "            cv = doCountyVote(node)\n",
    "            vt = VoteTypeTup(*cv, VoteTypeName)\n",
    "            votetype_tups.append(vt)\n",
    "            counties.append(cv)\n",
    "    res = pd.DataFrame(counties)\n",
    "    res.set_index(\"CountyName\", inplace=True)\n",
    "    res.rename(columns={\"Votes\":VoteTypeName}, inplace=True)\n",
    "    return (res, votetype_tups)\n",
    "def doChoice(root_node, pref='', verbosity=0):\n",
    "    if verbosity > 0:\n",
    "        print(node_msg(root_node, pref=pref+'  ', attribs='text'))   \n",
    "    ChoiceText = root_node.attrib['text']         \n",
    "    res = None\n",
    "    choice_tups = []\n",
    "    for node in root_node:\n",
    "        if node.tag == \"VoteType\":\n",
    "            df, vts = doVoteType(node)\n",
    "            for vt in vts:\n",
    "                choice = ChoiceTup(*vt, ChoiceText)\n",
    "                choice_tups.append(choice)\n",
    "            if res is None:\n",
    "                res = df\n",
    "            else:\n",
    "                res = res.join(df, how=\"left\")             \n",
    "    res['Total'] = res.sum(axis=1)     \n",
    "    res.columns = pd.MultiIndex.from_product([[ChoiceText], res.columns])   \n",
    "    return res, choice_tups\n",
    "def doContest(root_node, pref='', verbosity=0):\n",
    "    if verbosity > 0:\n",
    "        print(node_msg(root_node, pref=pref+'  ', attribs='text'))       \n",
    "    res = None\n",
    "    ContestText = root_node.attrib['text']     \n",
    "    contest_tups = []\n",
    "    for node in root_node:\n",
    "        if node.tag == \"Choice\":\n",
    "            choice, tups = doChoice(node)              \n",
    "            for tup in tups:\n",
    "                contest_tup = ContestTup(*tup, ContestText)\n",
    "                contest_tups.append(contest_tup)\n",
    "            if res is None:\n",
    "                res = choice\n",
    "            else:\n",
    "                res = res.join(choice, how='left')\n",
    "    return (res, contest_tups)"
   ]
  },
  {
   "cell_type": "code",
   "execution_count": 53,
   "metadata": {
    "code_folding": []
   },
   "outputs": [
    {
     "name": "stderr",
     "output_type": "stream",
     "text": [
      "  2%|█▉                                                                                | 7/303 [00:00<00:04, 60.70it/s]"
     ]
    },
    {
     "name": "stdout",
     "output_type": "stream",
     "text": [
      "President of the United States\n",
      "US Senate (Perdue)\n"
     ]
    },
    {
     "name": "stderr",
     "output_type": "stream",
     "text": [
      "100%|███████████████████████████████████████████████████████████████████████████████| 303/303 [00:00<00:00, 608.86it/s]"
     ]
    },
    {
     "name": "stdout",
     "output_type": "stream",
     "text": [
      "US Senate (Loeffler) - Special\n"
     ]
    },
    {
     "name": "stderr",
     "output_type": "stream",
     "text": [
      "\n"
     ]
    },
    {
     "data": {
      "text/html": [
       "<div>\n",
       "<style scoped>\n",
       "    .dataframe tbody tr th:only-of-type {\n",
       "        vertical-align: middle;\n",
       "    }\n",
       "\n",
       "    .dataframe tbody tr th {\n",
       "        vertical-align: top;\n",
       "    }\n",
       "\n",
       "    .dataframe thead th {\n",
       "        text-align: right;\n",
       "    }\n",
       "</style>\n",
       "<table border=\"1\" class=\"dataframe\">\n",
       "  <thead>\n",
       "    <tr style=\"text-align: right;\">\n",
       "      <th></th>\n",
       "      <th>Votes</th>\n",
       "    </tr>\n",
       "    <tr>\n",
       "      <th>Contest</th>\n",
       "      <th></th>\n",
       "    </tr>\n",
       "  </thead>\n",
       "  <tbody>\n",
       "    <tr>\n",
       "      <th>President of the United States</th>\n",
       "      <td>4998482</td>\n",
       "    </tr>\n",
       "    <tr>\n",
       "      <th>US Senate (Loeffler) - Special</th>\n",
       "      <td>4914361</td>\n",
       "    </tr>\n",
       "    <tr>\n",
       "      <th>US Senate (Perdue)</th>\n",
       "      <td>4952175</td>\n",
       "    </tr>\n",
       "  </tbody>\n",
       "</table>\n",
       "</div>"
      ],
      "text/plain": [
       "                                  Votes\n",
       "Contest                                \n",
       "President of the United States  4998482\n",
       "US Senate (Loeffler) - Special  4914361\n",
       "US Senate (Perdue)              4952175"
      ]
     },
     "execution_count": 53,
     "metadata": {},
     "output_type": "execute_result"
    }
   ],
   "source": [
    "xtree = et.parse(fpath)\n",
    "senate_races = []\n",
    "xroot = xtree.getroot()\n",
    "tups = []\n",
    "contests = {}\n",
    "for i, node in enumerate(tqdm(xroot)): \n",
    "    if node.tag == 'Contest':\n",
    "        if 'text' in node.attrib.keys():\n",
    "            if 'US Senate'  in node.attrib['text'] or \\\n",
    "                'President' in node.attrib['text'] :\n",
    "                contest = node.attrib['text']\n",
    "                res, contest_tups = doContest(node, pref='')\n",
    "                tups.extend(contest_tups)\n",
    "                print(contest)\n",
    "                contests[contest] = res\n",
    "contests.keys()\n",
    "contestsdf = pd.DataFrame(tups)\n",
    "contestsdf.groupby(by=\"Contest\").sum()"
   ]
  },
  {
   "cell_type": "code",
   "execution_count": 54,
   "metadata": {},
   "outputs": [
    {
     "data": {
      "text/html": [
       "<div>\n",
       "<style scoped>\n",
       "    .dataframe tbody tr th:only-of-type {\n",
       "        vertical-align: middle;\n",
       "    }\n",
       "\n",
       "    .dataframe tbody tr th {\n",
       "        vertical-align: top;\n",
       "    }\n",
       "\n",
       "    .dataframe thead th {\n",
       "        text-align: right;\n",
       "    }\n",
       "</style>\n",
       "<table border=\"1\" class=\"dataframe\">\n",
       "  <thead>\n",
       "    <tr style=\"text-align: right;\">\n",
       "      <th></th>\n",
       "      <th>CountyName</th>\n",
       "      <th>Votes</th>\n",
       "      <th>VoteType</th>\n",
       "      <th>Choice</th>\n",
       "      <th>Contest</th>\n",
       "    </tr>\n",
       "  </thead>\n",
       "  <tbody>\n",
       "    <tr>\n",
       "      <th>0</th>\n",
       "      <td>Appling</td>\n",
       "      <td>1753</td>\n",
       "      <td>Election Day Votes</td>\n",
       "      <td>Donald J. Trump (I) (Rep)</td>\n",
       "      <td>President of the United States</td>\n",
       "    </tr>\n",
       "    <tr>\n",
       "      <th>1</th>\n",
       "      <td>Atkinson</td>\n",
       "      <td>716</td>\n",
       "      <td>Election Day Votes</td>\n",
       "      <td>Donald J. Trump (I) (Rep)</td>\n",
       "      <td>President of the United States</td>\n",
       "    </tr>\n",
       "    <tr>\n",
       "      <th>2</th>\n",
       "      <td>Bacon</td>\n",
       "      <td>431</td>\n",
       "      <td>Election Day Votes</td>\n",
       "      <td>Donald J. Trump (I) (Rep)</td>\n",
       "      <td>President of the United States</td>\n",
       "    </tr>\n",
       "    <tr>\n",
       "      <th>3</th>\n",
       "      <td>Baker</td>\n",
       "      <td>291</td>\n",
       "      <td>Election Day Votes</td>\n",
       "      <td>Donald J. Trump (I) (Rep)</td>\n",
       "      <td>President of the United States</td>\n",
       "    </tr>\n",
       "    <tr>\n",
       "      <th>4</th>\n",
       "      <td>Baldwin</td>\n",
       "      <td>1873</td>\n",
       "      <td>Election Day Votes</td>\n",
       "      <td>Donald J. Trump (I) (Rep)</td>\n",
       "      <td>President of the United States</td>\n",
       "    </tr>\n",
       "  </tbody>\n",
       "</table>\n",
       "</div>"
      ],
      "text/plain": [
       "  CountyName  Votes            VoteType                     Choice  \\\n",
       "0    Appling   1753  Election Day Votes  Donald J. Trump (I) (Rep)   \n",
       "1   Atkinson    716  Election Day Votes  Donald J. Trump (I) (Rep)   \n",
       "2      Bacon    431  Election Day Votes  Donald J. Trump (I) (Rep)   \n",
       "3      Baker    291  Election Day Votes  Donald J. Trump (I) (Rep)   \n",
       "4    Baldwin   1873  Election Day Votes  Donald J. Trump (I) (Rep)   \n",
       "\n",
       "                          Contest  \n",
       "0  President of the United States  \n",
       "1  President of the United States  \n",
       "2  President of the United States  \n",
       "3  President of the United States  \n",
       "4  President of the United States  "
      ]
     },
     "execution_count": 54,
     "metadata": {},
     "output_type": "execute_result"
    }
   ],
   "source": [
    "contestsdf.head()"
   ]
  },
  {
   "cell_type": "code",
   "execution_count": 65,
   "metadata": {},
   "outputs": [
    {
     "data": {
      "text/html": [
       "<div>\n",
       "<style scoped>\n",
       "    .dataframe tbody tr th:only-of-type {\n",
       "        vertical-align: middle;\n",
       "    }\n",
       "\n",
       "    .dataframe tbody tr th {\n",
       "        vertical-align: top;\n",
       "    }\n",
       "\n",
       "    .dataframe thead th {\n",
       "        text-align: right;\n",
       "    }\n",
       "</style>\n",
       "<table border=\"1\" class=\"dataframe\">\n",
       "  <thead>\n",
       "    <tr style=\"text-align: right;\">\n",
       "      <th></th>\n",
       "      <th>Votes</th>\n",
       "      <th>VotesPct</th>\n",
       "    </tr>\n",
       "    <tr>\n",
       "      <th>CountyName</th>\n",
       "      <th></th>\n",
       "      <th></th>\n",
       "    </tr>\n",
       "  </thead>\n",
       "  <tbody>\n",
       "    <tr>\n",
       "      <th>Fulton</th>\n",
       "      <td>1563044</td>\n",
       "      <td>0.105149</td>\n",
       "    </tr>\n",
       "    <tr>\n",
       "      <th>Gwinnett</th>\n",
       "      <td>1227786</td>\n",
       "      <td>0.082596</td>\n",
       "    </tr>\n",
       "    <tr>\n",
       "      <th>Cobb</th>\n",
       "      <td>1173481</td>\n",
       "      <td>0.078942</td>\n",
       "    </tr>\n",
       "    <tr>\n",
       "      <th>DeKalb</th>\n",
       "      <td>1105580</td>\n",
       "      <td>0.074375</td>\n",
       "    </tr>\n",
       "  </tbody>\n",
       "</table>\n",
       "</div>"
      ],
      "text/plain": [
       "              Votes  VotesPct\n",
       "CountyName                   \n",
       "Fulton      1563044  0.105149\n",
       "Gwinnett    1227786  0.082596\n",
       "Cobb        1173481  0.078942\n",
       "DeKalb      1105580  0.074375"
      ]
     },
     "execution_count": 65,
     "metadata": {},
     "output_type": "execute_result"
    }
   ],
   "source": [
    "grp_contests = contestsdf.groupby(by=['VoteType','Choice', 'Contest']).sum()\n",
    "grp_contests.sort_values(by=['Contest', 'VoteType','Choice'],inplace=True)\n",
    "grp_contests.reset_index(inplace=True)\n",
    "grp_contests.head()\n",
    "votesByCounty = contestsdf[[\"CountyName\", \"Votes\"]].groupby(\"CountyName\").sum()\n",
    "votesByCounty.sort_values(by=\"Votes\", ascending=False, inplace=True)\n",
    "votesByCounty.head(4)"
   ]
  },
  {
   "cell_type": "code",
   "execution_count": 56,
   "metadata": {},
   "outputs": [
    {
     "data": {
      "text/html": [
       "<div>\n",
       "<style scoped>\n",
       "    .dataframe tbody tr th:only-of-type {\n",
       "        vertical-align: middle;\n",
       "    }\n",
       "\n",
       "    .dataframe tbody tr th {\n",
       "        vertical-align: top;\n",
       "    }\n",
       "\n",
       "    .dataframe thead th {\n",
       "        text-align: right;\n",
       "    }\n",
       "</style>\n",
       "<table border=\"1\" class=\"dataframe\">\n",
       "  <thead>\n",
       "    <tr style=\"text-align: right;\">\n",
       "      <th></th>\n",
       "      <th>VoteType</th>\n",
       "      <th>Choice</th>\n",
       "      <th>Contest</th>\n",
       "      <th>Votes</th>\n",
       "    </tr>\n",
       "  </thead>\n",
       "  <tbody>\n",
       "    <tr>\n",
       "      <th>37</th>\n",
       "      <td>Advanced Voting Votes</td>\n",
       "      <td>Deborah Jackson (Dem)</td>\n",
       "      <td>US Senate (Loeffler) - Special</td>\n",
       "      <td>173820</td>\n",
       "    </tr>\n",
       "    <tr>\n",
       "      <th>19</th>\n",
       "      <td>Absentee by Mail Votes</td>\n",
       "      <td>Doug Collins (Rep)</td>\n",
       "      <td>US Senate (Loeffler) - Special</td>\n",
       "      <td>185300</td>\n",
       "    </tr>\n",
       "    <tr>\n",
       "      <th>68</th>\n",
       "      <td>Election Day Votes</td>\n",
       "      <td>Raphael Warnock (Dem)</td>\n",
       "      <td>US Senate (Loeffler) - Special</td>\n",
       "      <td>205110</td>\n",
       "    </tr>\n",
       "    <tr>\n",
       "      <th>59</th>\n",
       "      <td>Election Day Votes</td>\n",
       "      <td>Doug Collins (Rep)</td>\n",
       "      <td>US Senate (Loeffler) - Special</td>\n",
       "      <td>211902</td>\n",
       "    </tr>\n",
       "    <tr>\n",
       "      <th>25</th>\n",
       "      <td>Absentee by Mail Votes</td>\n",
       "      <td>Kelly Loeffler (I) (Rep)</td>\n",
       "      <td>US Senate (Loeffler) - Special</td>\n",
       "      <td>249090</td>\n",
       "    </tr>\n",
       "    <tr>\n",
       "      <th>65</th>\n",
       "      <td>Election Day Votes</td>\n",
       "      <td>Kelly Loeffler (I) (Rep)</td>\n",
       "      <td>US Senate (Loeffler) - Special</td>\n",
       "      <td>298209</td>\n",
       "    </tr>\n",
       "    <tr>\n",
       "      <th>39</th>\n",
       "      <td>Advanced Voting Votes</td>\n",
       "      <td>Doug Collins (Rep)</td>\n",
       "      <td>US Senate (Loeffler) - Special</td>\n",
       "      <td>581871</td>\n",
       "    </tr>\n",
       "    <tr>\n",
       "      <th>28</th>\n",
       "      <td>Absentee by Mail Votes</td>\n",
       "      <td>Raphael Warnock (Dem)</td>\n",
       "      <td>US Senate (Loeffler) - Special</td>\n",
       "      <td>601522</td>\n",
       "    </tr>\n",
       "    <tr>\n",
       "      <th>45</th>\n",
       "      <td>Advanced Voting Votes</td>\n",
       "      <td>Kelly Loeffler (I) (Rep)</td>\n",
       "      <td>US Senate (Loeffler) - Special</td>\n",
       "      <td>724577</td>\n",
       "    </tr>\n",
       "    <tr>\n",
       "      <th>48</th>\n",
       "      <td>Advanced Voting Votes</td>\n",
       "      <td>Raphael Warnock (Dem)</td>\n",
       "      <td>US Senate (Loeffler) - Special</td>\n",
       "      <td>807005</td>\n",
       "    </tr>\n",
       "  </tbody>\n",
       "</table>\n",
       "</div>"
      ],
      "text/plain": [
       "                  VoteType                    Choice  \\\n",
       "37   Advanced Voting Votes     Deborah Jackson (Dem)   \n",
       "19  Absentee by Mail Votes        Doug Collins (Rep)   \n",
       "68      Election Day Votes     Raphael Warnock (Dem)   \n",
       "59      Election Day Votes        Doug Collins (Rep)   \n",
       "25  Absentee by Mail Votes  Kelly Loeffler (I) (Rep)   \n",
       "65      Election Day Votes  Kelly Loeffler (I) (Rep)   \n",
       "39   Advanced Voting Votes        Doug Collins (Rep)   \n",
       "28  Absentee by Mail Votes     Raphael Warnock (Dem)   \n",
       "45   Advanced Voting Votes  Kelly Loeffler (I) (Rep)   \n",
       "48   Advanced Voting Votes     Raphael Warnock (Dem)   \n",
       "\n",
       "                           Contest   Votes  \n",
       "37  US Senate (Loeffler) - Special  173820  \n",
       "19  US Senate (Loeffler) - Special  185300  \n",
       "68  US Senate (Loeffler) - Special  205110  \n",
       "59  US Senate (Loeffler) - Special  211902  \n",
       "25  US Senate (Loeffler) - Special  249090  \n",
       "65  US Senate (Loeffler) - Special  298209  \n",
       "39  US Senate (Loeffler) - Special  581871  \n",
       "28  US Senate (Loeffler) - Special  601522  \n",
       "45  US Senate (Loeffler) - Special  724577  \n",
       "48  US Senate (Loeffler) - Special  807005  "
      ]
     },
     "execution_count": 56,
     "metadata": {},
     "output_type": "execute_result"
    }
   ],
   "source": [
    "grp_contests.loc[grp_contests['Contest'].str.contains('President'),]\n",
    "grp_contests.sort_values(by=\"Votes\", inplace=True)\n",
    "grp_contests.loc[grp_contests['Contest'].str.contains('Loeffler'),].tail(10)"
   ]
  },
  {
   "cell_type": "code",
   "execution_count": 68,
   "metadata": {},
   "outputs": [
    {
     "name": "stdout",
     "output_type": "stream",
     "text": [
      "Votes counted by Vote Type\n",
      "                          Votes   Pct\n",
      "VoteType                             \n",
      "Absentee by Mail Votes  1316943  26.3\n",
      "Advanced Voting Votes   2694879  53.9\n",
      "Election Day Votes       975540  19.5\n",
      "Provisional Votes         11120   0.2\n",
      "------\n",
      "Total votes counted (millions): 4.998482\n"
     ]
    }
   ],
   "source": [
    "presdf = contestsdf[contestsdf['Contest'].str.contains(\"President\")]\n",
    "loefflerdf = contestsdf[contestsdf['Contest'].str.contains(\"Loeffler\")]\n",
    "purduedf = contestsdf[contestsdf['Contest'].str.contains(\"Loeffler\")]\n",
    "if True:\n",
    "    gdf = presdf[['VoteType', 'Votes', 'Contest']].groupby('VoteType').sum() \n",
    "    gdf[\"Pct\"] = 100*np.round(gdf / gdf.sum(),3)\n",
    "    print(\"Votes counted by Vote Type\")\n",
    "    print(gdf)\n",
    "    print(\"------\")\n",
    "    print(\"Total votes counted (millions): {0}\".format(gdf[\"Votes\"].sum()/10.0**6))"
   ]
  },
  {
   "cell_type": "code",
   "execution_count": 7,
   "metadata": {},
   "outputs": [
    {
     "data": {
      "text/plain": [
       "VoteType    Absentee by Mail VotesAbsentee by Mail VotesAb...\n",
       "Choice      Donald J. Trump (I) (Rep)Jo Jorgensen (Lib)Jos...\n",
       "Contest     President of the United StatesPresident of the...\n",
       "Votes                                                 4998482\n",
       "dtype: object"
      ]
     },
     "execution_count": 7,
     "metadata": {},
     "output_type": "execute_result"
    }
   ],
   "source": [
    "gb.loc[gb['Contest'].str.contains('President'),].sum()"
   ]
  },
  {
   "cell_type": "markdown",
   "metadata": {},
   "source": [
    "<span style=\"color:blue\">\n",
    "    \n",
    "---\n",
    "    \n",
    "# Registered voters by County, Age, Race\n",
    "    \n",
    "https://sos.ga.gov/index.php/Elections/voter_registration_statistics\n",
    "    \n",
    "---\n",
    "    \n",
    "</span>"
   ]
  },
  {
   "cell_type": "code",
   "execution_count": 78,
   "metadata": {
    "code_folding": [
     4,
     6
    ]
   },
   "outputs": [
    {
     "name": "stdout",
     "output_type": "stream",
     "text": [
      "{'AI': 'AMERICAN INDIAN OR ALASKAN NATIVE', 'AP': 'ASIAN OR PACIFIC ISLANDER', 'BH': 'BLACK NOT OF HISPANIC ORIGIN', 'HP': 'HISPANIC', 'WH': 'WHITE NOT OF HISPANIC ORIGIN', 'OT': 'OTHER', 'UK': 'UNKNOWN'}\n"
     ]
    }
   ],
   "source": [
    "if True:\n",
    "    dpath = \"./data/\"\n",
    "    voterfile = \"Active_Voters_by_Race_Gender_and_Age_as_of_November_1_2020.xlsx\"\n",
    "    voterpath = os.path.join(dpath, fname)\n",
    "    if not os.path.isdir(dpath):\n",
    "        warnings.warn(\"{0} is not a directory\".format(dpath))\n",
    "    if not os.path.isfile(voterpath):\n",
    "        warnings.warn(\"No file {0} in dir {1}\".format(fname, dpath))\n",
    "    with open(voterpath) as vp:\n",
    "        racedf = pd.read_excel(voterpath, nrows=7, engine='openpyxl').iloc[:,:2]\n",
    "        racedf.columns = [\"RaceCode\", \"RaceDescription\"]\n",
    "        racedf[\"RaceCode\"] = racedf[\"RaceCode\"].apply(lambda x: x[:-2])\n",
    "        racedf.set_index(\"RaceCode\", inplace=True)\n",
    "        race = racedf.squeeze()\n",
    "        race_dict = race.to_dict()\n",
    "        print(race_dict)"
   ]
  },
  {
   "cell_type": "code",
   "execution_count": 95,
   "metadata": {
    "code_folding": []
   },
   "outputs": [
    {
     "name": "stdout",
     "output_type": "stream",
     "text": [
      "1594 rows 24 cols\n",
      "  COUNTYNAME VOTERAGERANGE  AIMALEVOTERS  AIFEMALEVOTERS  AIUNKNOWNVOTERS  \\\n",
      "0    APPLING         18-24             2               1                0   \n",
      "1    APPLING         25-29             0               0                0   \n",
      "\n",
      "   APMALEVOTERS  APFEMALEVOTERS  APUNKNOWNVOTERS  BHMALEVOTERS  \\\n",
      "0             3               5                0           120   \n",
      "1             4               1                0            81   \n",
      "\n",
      "   BHFEMALEVOTERS  ...  WHMALEVOTERS  WHFEMALEVOTERS  WHUNKNOWNVOTERS  \\\n",
      "0             110  ...           436             429                1   \n",
      "1              89  ...           282             298                1   \n",
      "\n",
      "   OTMALEVOTERS  OTFEMALEVOTERS  OTUNKNOWNVOTERS  UKMALEVOTERS  \\\n",
      "0             5              19                0            95   \n",
      "1             3               7                0            38   \n",
      "\n",
      "   UKFEMALEVOTERS  UKUNKNOWNVOTERS  TOTALVOTERS  \n",
      "0              60                2         1374  \n",
      "1              30                0          866  \n",
      "\n",
      "[2 rows x 24 columns]\n"
     ]
    }
   ],
   "source": [
    "if True:\n",
    "    import re\n",
    "    if True:\n",
    "        votersdf = pd.read_excel(voterpath, skiprows=8, engine='openpyxl')\n",
    "        if votersdf.columns[-1] != \"TOTAL VOTERS\":\n",
    "            votersdf = votersdf.iloc[:,:-1]\n",
    "        colnames = [re.sub(\"\\s+\", \"\", c.strip()) for c in votersdf.columns]\n",
    "        votersdf.columns = colnames\n",
    "       \n",
    "        votersdf.drop('COUNTYID', axis=1, inplace=True)    \n",
    "        votersdf = votersdf.loc[votersdf[\"COUNTYNAME\"].notna()]\n",
    "        colname_parts = [c.split(\"-\") for c in votersdf.columns]\n",
    "        newnames = []\n",
    "        \n",
    "        for parts in colname_parts:\n",
    "            newparts = parts\n",
    "            if parts[0]  in race_dict.keys():\n",
    "\n",
    "                newparts = [race_dict[parts[0]].split(\" \")[0]] + parts[1:]\n",
    "            newnames.append(\"-\".join(newparts))\n",
    "        votersdf.columns = newnames\n",
    "        print(\"{0} rows {1} cols\".format(*votersdf.shape))\n",
    "        print(votersdf.head(2))          \n",
    "        votersdf.head(2)"
   ]
  },
  {
   "cell_type": "code",
   "execution_count": 97,
   "metadata": {},
   "outputs": [
    {
     "data": {
      "text/html": [
       "<div>\n",
       "<style scoped>\n",
       "    .dataframe tbody tr th:only-of-type {\n",
       "        vertical-align: middle;\n",
       "    }\n",
       "\n",
       "    .dataframe tbody tr th {\n",
       "        vertical-align: top;\n",
       "    }\n",
       "\n",
       "    .dataframe thead th {\n",
       "        text-align: right;\n",
       "    }\n",
       "</style>\n",
       "<table border=\"1\" class=\"dataframe\">\n",
       "  <thead>\n",
       "    <tr style=\"text-align: right;\">\n",
       "      <th></th>\n",
       "      <th>TOTALVOTERS</th>\n",
       "    </tr>\n",
       "    <tr>\n",
       "      <th>COUNTYNAME</th>\n",
       "      <th></th>\n",
       "    </tr>\n",
       "  </thead>\n",
       "  <tbody>\n",
       "    <tr>\n",
       "      <th>FULTON</th>\n",
       "      <td>808742</td>\n",
       "    </tr>\n",
       "    <tr>\n",
       "      <th>GWINNETT</th>\n",
       "      <td>582917</td>\n",
       "    </tr>\n",
       "    <tr>\n",
       "      <th>DEKALB</th>\n",
       "      <td>547802</td>\n",
       "    </tr>\n",
       "    <tr>\n",
       "      <th>COBB</th>\n",
       "      <td>537659</td>\n",
       "    </tr>\n",
       "    <tr>\n",
       "      <th>CHATHAM</th>\n",
       "      <td>202999</td>\n",
       "    </tr>\n",
       "    <tr>\n",
       "      <th>...</th>\n",
       "      <td>...</td>\n",
       "    </tr>\n",
       "    <tr>\n",
       "      <th>CLAY</th>\n",
       "      <td>2053</td>\n",
       "    </tr>\n",
       "    <tr>\n",
       "      <th>GLASCOCK</th>\n",
       "      <td>2040</td>\n",
       "    </tr>\n",
       "    <tr>\n",
       "      <th>WEBSTER</th>\n",
       "      <td>1713</td>\n",
       "    </tr>\n",
       "    <tr>\n",
       "      <th>QUITMAN</th>\n",
       "      <td>1553</td>\n",
       "    </tr>\n",
       "    <tr>\n",
       "      <th>TALIAFERRO</th>\n",
       "      <td>1246</td>\n",
       "    </tr>\n",
       "  </tbody>\n",
       "</table>\n",
       "<p>159 rows × 1 columns</p>\n",
       "</div>"
      ],
      "text/plain": [
       "            TOTALVOTERS\n",
       "COUNTYNAME             \n",
       "FULTON           808742\n",
       "GWINNETT         582917\n",
       "DEKALB           547802\n",
       "COBB             537659\n",
       "CHATHAM          202999\n",
       "...                 ...\n",
       "CLAY               2053\n",
       "GLASCOCK           2040\n",
       "WEBSTER            1713\n",
       "QUITMAN            1553\n",
       "TALIAFERRO         1246\n",
       "\n",
       "[159 rows x 1 columns]"
      ]
     },
     "execution_count": 97,
     "metadata": {},
     "output_type": "execute_result"
    }
   ],
   "source": [
    "gcols = [\"COUNTYNAME\"]\n",
    "votersByCounty = votersdf[[\"COUNTYNAME\", 'TOTALVOTERS' ]].groupby(by=gcols).sum()\n",
    "votersByCounty.sort_values(by=\"TOTALVOTERS\", ascending=False, inplace=True)\n",
    "votersByCounty\n",
    "#print(\"# Counties {0}\".format(voterstot.shape[0]))\n",
    "#$voterstot.head(5)"
   ]
  },
  {
   "cell_type": "markdown",
   "metadata": {},
   "source": [
    "<span style=\"color:blue\">\n",
    "    \n",
    "---\n",
    "    \n",
    "# Combining Voters and Votes by County\n",
    "    \n",
    "---\n",
    "    \n",
    "</span>"
   ]
  },
  {
   "cell_type": "code",
   "execution_count": null,
   "metadata": {},
   "outputs": [],
   "source": []
  },
  {
   "cell_type": "markdown",
   "metadata": {},
   "source": [
    "<span style=\"color:blue\">\n",
    "    \n",
    "---\n",
    "    \n",
    "# Voter Registration\n",
    "    \n",
    "https://elections.sos.ga.gov/Elections/voterhistory.do\n",
    "\n",
    "---\n",
    "    \n",
    "</span>"
   ]
  },
  {
   "cell_type": "code",
   "execution_count": 25,
   "metadata": {},
   "outputs": [],
   "source": [
    "ElectionType = {\n",
    "'001':'GENERAL PRIMARY',\n",
    "'002':'GENERAL PRIMARY RUN-OFF',\n",
    "'003':'GENERAL',\n",
    "'004':'GENERAL ELECTION RUNOFF',\n",
    "'005':'SPECIAL ELECTION',\n",
    "'006':'SPECIAL RUNOFF',\n",
    "'007':'NON- PARTISAN',\n",
    "'008':'SPECIAL/NON-PARTISAN',\n",
    "'009':'RECALL',\n",
    "'010':'PPP'\n",
    "}\n",
    "#SPECIAL PRIMARY RUNOFF\n",
    "#SPECIAL PRIMARY"
   ]
  },
  {
   "cell_type": "code",
   "execution_count": 26,
   "metadata": {},
   "outputs": [
    {
     "name": "stdout",
     "output_type": "stream",
     "text": [
      "2020.TXT had 8416980 lines, minlen 0, maxlen 27\n"
     ]
    }
   ],
   "source": [
    "dpath = \"./data/2020\"\n",
    "files = os.listdir(dpath)\n",
    "fname = \"2020.TXT\"\n",
    "if fname not in files:\n",
    "    warnings.warn(\"{0} not found\".format(fname))\n",
    "if not os.path.isfile(os.path.join(dpath, fname)):\n",
    "    warnings.warn(\"{0} not a file\".format(fname))\n",
    "with open(os.path.join(dpath, fname), mode='r') as fp:\n",
    "    txt = fp.read()\n",
    "voter_lines = txt.split('\\n')\n",
    "minlen = min([len(l) for l in voter_lines])\n",
    "maxlen = max([len(l) for l in voter_lines])\n",
    "print(\"{0} had {1} lines, minlen {2}, maxlen {3}\".format(fname, len(voter_lines), minlen, maxlen))"
   ]
  },
  {
   "cell_type": "code",
   "execution_count": 27,
   "metadata": {},
   "outputs": [
    {
     "name": "stderr",
     "output_type": "stream",
     "text": [
      "100%|████████████████████████████████████████████████████████████████████| 8416980/8416980 [00:56<00:00, 148096.76it/s]\n"
     ]
    },
    {
     "name": "stdout",
     "output_type": "stream",
     "text": [
      "[VoterRec(county_num='067', registration_num='02788924', election_date='20200324', election_type='005', party='  ', absentee='N', provisional='N', supplemental='N'), VoterRec(county_num='067', registration_num='05761105', election_date='20200324', election_type='005', party='  ', absentee='N', provisional='N', supplemental='N')]\n",
      "  CountyName  Votes            VoteType                     Choice  \\\n",
      "0    Appling   1753  Election Day Votes  Donald J. Trump (I) (Rep)   \n",
      "1   Atkinson    716  Election Day Votes  Donald J. Trump (I) (Rep)   \n",
      "2      Bacon    431  Election Day Votes  Donald J. Trump (I) (Rep)   \n",
      "3      Baker    291  Election Day Votes  Donald J. Trump (I) (Rep)   \n",
      "4    Baldwin   1873  Election Day Votes  Donald J. Trump (I) (Rep)   \n",
      "\n",
      "                          Contest  \n",
      "0  President of the United States  \n",
      "1  President of the United States  \n",
      "2  President of the United States  \n",
      "3  President of the United States  \n",
      "4  President of the United States  \n"
     ]
    }
   ],
   "source": [
    "def parse_voter_lines(lines=None):\n",
    "    from collections import namedtuple\n",
    "    from collections import OrderedDict\n",
    "    field_lens = {'county_num':3,\n",
    "                'registration_num':8,\n",
    "                'election_date':8,\n",
    "                'election_type': 3,\n",
    "                'party': 2,\n",
    "                'absentee':1,\n",
    "                'provisional':1,\n",
    "                'supplemental':1}\n",
    "    fields = ['county_num',\n",
    "                'registration_num',\n",
    "                'election_date',\n",
    "                'election_type',\n",
    "                'party',\n",
    "                'absentee',\n",
    "                'provisional',\n",
    "                'supplemental']\n",
    "    #print(field_lens.keys())\n",
    "    VoterRec = namedtuple(\"VoterRec\", fields )\n",
    "    expected_len = sum([field_lens[k] for k in field_lens.keys()])\n",
    "    tups = []\n",
    "    #pdb.set_trace()\n",
    "    for i, line in enumerate(tqdm(lines)):\n",
    "        if len(line) != expected_len:\n",
    "            msg = \"{0} len={1}, line={2}\".format(i, len(line), line)\n",
    "            continue\n",
    "        start = 0\n",
    "        data = {}\n",
    "        for f in fields:\n",
    "            flen = field_lens[f]\n",
    "            delem = line[start:(start+flen)]\n",
    "            data[f] = delem\n",
    "            start += flen\n",
    "        vr = VoterRec(**data)\n",
    "        tups .append(vr)\n",
    "    df = pd.DataFrame(tups)\n",
    "    return df, tups\n",
    "regdf, tups = parse_voter_lines(lines=voter_lines)\n",
    "print(tups[:2])\n",
    "print(df.head())"
   ]
  },
  {
   "cell_type": "code",
   "execution_count": 29,
   "metadata": {},
   "outputs": [
    {
     "name": "stderr",
     "output_type": "stream",
     "text": [
      "<ipython-input-29-946d2df8b4c2>:9: SettingWithCopyWarning: \n",
      "A value is trying to be set on a copy of a slice from a DataFrame.\n",
      "Try using .loc[row_indexer,col_indexer] = value instead\n",
      "\n",
      "See the caveats in the documentation: https://pandas.pydata.org/pandas-docs/stable/user_guide/indexing.html#returning-a-view-versus-a-copy\n",
      "<ipython-input-29-946d2df8b4c2>:10: SettingWithCopyWarning: \n",
      "A value is trying to be set on a copy of a slice from a DataFrame.\n",
      "Try using .loc[row_indexer,col_indexer] = value instead\n",
      "\n",
      "See the caveats in the documentation: https://pandas.pydata.org/pandas-docs/stable/user_guide/indexing.html#returning-a-view-versus-a-copy\n"
     ]
    },
    {
     "data": {
      "text/plain": [
       "absentee_int        4018918\n",
       "provisional_int        6474\n",
       "supplemental_int        138\n",
       "dtype: int64"
      ]
     },
     "execution_count": 29,
     "metadata": {},
     "output_type": "execute_result"
    }
   ],
   "source": [
    "gendf = regdf.loc[regdf['election_type'] == '003']\n",
    "print(\"gendf.shape\n",
    "gendf.head(2)\n",
    "inames = []\n",
    "for name in ['absentee', 'provisional', 'supplemental']:\n",
    "    bname = name+\"_bool\"\n",
    "    iname = name+'_int'\n",
    "    inames.append(iname)\n",
    "    gendf[bname] = gendf[name]=='Y'\n",
    "    gendf[iname] = gendf[bname].astype(int)\n",
    "gendf.head(2)\n",
    "gendf[inames].sum()"
   ]
  },
  {
   "cell_type": "code",
   "execution_count": 30,
   "metadata": {},
   "outputs": [
    {
     "name": "stdout",
     "output_type": "stream",
     "text": [
      "(5002773, 14)\n"
     ]
    },
    {
     "name": "stderr",
     "output_type": "stream",
     "text": [
      "<ipython-input-30-3354c613ad78>:2: SettingWithCopyWarning: \n",
      "A value is trying to be set on a copy of a slice from a DataFrame.\n",
      "Try using .loc[row_indexer,col_indexer] = value instead\n",
      "\n",
      "See the caveats in the documentation: https://pandas.pydata.org/pandas-docs/stable/user_guide/indexing.html#returning-a-view-versus-a-copy\n"
     ]
    },
    {
     "name": "stdout",
     "output_type": "stream",
     "text": [
      "4025246\n",
      "(5002773, 15)\n"
     ]
    }
   ],
   "source": [
    "print(\"rows in gendf.shape)\n",
    "gendf['typesum'] = gendf[inames].sum(axis=1)\n",
    "gendf.head()\n",
    "print(gendf.shape[0] - gendf.loc[gendf['typesum'] != 1].shape[0])\n",
    "print(gendf.shape)\n",
    "#print(gendf[inames].sum().sum())"
   ]
  },
  {
   "cell_type": "code",
   "execution_count": 98,
   "metadata": {},
   "outputs": [
    {
     "ename": "AttributeError",
     "evalue": "'DataFrameGroupBy' object has no attribute 'sort_values'",
     "output_type": "error",
     "traceback": [
      "\u001b[1;31m---------------------------------------------------------------------------\u001b[0m",
      "\u001b[1;31mAttributeError\u001b[0m                            Traceback (most recent call last)",
      "\u001b[1;32m<ipython-input-98-6d4896486fd5>\u001b[0m in \u001b[0;36m<module>\u001b[1;34m\u001b[0m\n\u001b[0;32m      2\u001b[0m \u001b[0mgcols\u001b[0m \u001b[1;33m=\u001b[0m \u001b[1;33m[\u001b[0m\u001b[1;34m'county_num'\u001b[0m\u001b[1;33m,\u001b[0m \u001b[1;34m'election_date'\u001b[0m\u001b[1;33m,\u001b[0m \u001b[1;34m'party'\u001b[0m\u001b[1;33m]\u001b[0m\u001b[1;33m\u001b[0m\u001b[1;33m\u001b[0m\u001b[0m\n\u001b[0;32m      3\u001b[0m \u001b[0mgdf\u001b[0m \u001b[1;33m=\u001b[0m \u001b[0mgendf\u001b[0m\u001b[1;33m[\u001b[0m\u001b[0mallcols\u001b[0m\u001b[1;33m]\u001b[0m\u001b[1;33m.\u001b[0m\u001b[0mgroupby\u001b[0m\u001b[1;33m(\u001b[0m\u001b[0mby\u001b[0m\u001b[1;33m=\u001b[0m\u001b[0mgcols\u001b[0m\u001b[1;33m)\u001b[0m\u001b[1;33m\u001b[0m\u001b[1;33m\u001b[0m\u001b[0m\n\u001b[1;32m----> 4\u001b[1;33m \u001b[0mgdf\u001b[0m\u001b[1;33m.\u001b[0m\u001b[0msort_values\u001b[0m\u001b[1;33m(\u001b[0m\u001b[0mby\u001b[0m\u001b[1;33m=\u001b[0m\u001b[1;34m'absentee'\u001b[0m\u001b[1;33m,\u001b[0m \u001b[0minplace\u001b[0m\u001b[1;33m=\u001b[0m\u001b[1;32mTrue\u001b[0m\u001b[1;33m)\u001b[0m\u001b[1;33m\u001b[0m\u001b[1;33m\u001b[0m\u001b[0m\n\u001b[0m\u001b[0;32m      5\u001b[0m \u001b[0mgdf\u001b[0m\u001b[1;33m\u001b[0m\u001b[1;33m\u001b[0m\u001b[0m\n",
      "\u001b[1;32m~\\anaconda3\\envs\\general\\lib\\site-packages\\pandas\\core\\groupby\\groupby.py\u001b[0m in \u001b[0;36m__getattr__\u001b[1;34m(self, attr)\u001b[0m\n\u001b[0;32m    701\u001b[0m             \u001b[1;32mreturn\u001b[0m \u001b[0mself\u001b[0m\u001b[1;33m[\u001b[0m\u001b[0mattr\u001b[0m\u001b[1;33m]\u001b[0m\u001b[1;33m\u001b[0m\u001b[1;33m\u001b[0m\u001b[0m\n\u001b[0;32m    702\u001b[0m \u001b[1;33m\u001b[0m\u001b[0m\n\u001b[1;32m--> 703\u001b[1;33m         raise AttributeError(\n\u001b[0m\u001b[0;32m    704\u001b[0m             \u001b[1;34mf\"'{type(self).__name__}' object has no attribute '{attr}'\"\u001b[0m\u001b[1;33m\u001b[0m\u001b[1;33m\u001b[0m\u001b[0m\n\u001b[0;32m    705\u001b[0m         )\n",
      "\u001b[1;31mAttributeError\u001b[0m: 'DataFrameGroupBy' object has no attribute 'sort_values'"
     ]
    }
   ],
   "source": [
    "allcols = ['county_num', 'election_date', 'party', 'absentee', 'provisional', 'supplemental']\n",
    "gcols = ['county_num', 'election_date', 'party']           \n",
    "gdf = gendf[allcols].groupby(by=gcols)\n",
    "gdf"
   ]
  },
  {
   "cell_type": "code",
   "execution_count": 93,
   "metadata": {},
   "outputs": [
    {
     "data": {
      "text/plain": [
       "array(['20201103', '20201204'], dtype=object)"
      ]
     },
     "execution_count": 93,
     "metadata": {},
     "output_type": "execute_result"
    }
   ],
   "source": [
    "gendf['election_date'].unique()"
   ]
  },
  {
   "cell_type": "code",
   "execution_count": 86,
   "metadata": {},
   "outputs": [
    {
     "ename": "PermissionError",
     "evalue": "[Errno 13] Permission denied: '.\\\\data'",
     "output_type": "error",
     "traceback": [
      "\u001b[1;31m---------------------------------------------------------------------------\u001b[0m",
      "\u001b[1;31mPermissionError\u001b[0m                           Traceback (most recent call last)",
      "\u001b[1;32m<ipython-input-86-e81c2fa86c81>\u001b[0m in \u001b[0;36m<module>\u001b[1;34m\u001b[0m\n\u001b[0;32m      2\u001b[0m \u001b[0mfname\u001b[0m \u001b[1;33m=\u001b[0m \u001b[1;34m\"County_Number_List.pdf\"\u001b[0m\u001b[1;33m\u001b[0m\u001b[1;33m\u001b[0m\u001b[0m\n\u001b[0;32m      3\u001b[0m \u001b[1;31m# Creating a pdf file object.\u001b[0m\u001b[1;33m\u001b[0m\u001b[1;33m\u001b[0m\u001b[1;33m\u001b[0m\u001b[0m\n\u001b[1;32m----> 4\u001b[1;33m \u001b[0mpdf\u001b[0m \u001b[1;33m=\u001b[0m \u001b[0mopen\u001b[0m\u001b[1;33m(\u001b[0m\u001b[0mfpath\u001b[0m\u001b[1;33m,\u001b[0m \u001b[0mmode\u001b[0m\u001b[1;33m=\u001b[0m\u001b[1;34m\"rb\"\u001b[0m\u001b[1;33m)\u001b[0m\u001b[1;33m\u001b[0m\u001b[1;33m\u001b[0m\u001b[0m\n\u001b[0m\u001b[0;32m      5\u001b[0m \u001b[1;33m\u001b[0m\u001b[0m\n\u001b[0;32m      6\u001b[0m \u001b[1;31m# Creating pdf reader object.\u001b[0m\u001b[1;33m\u001b[0m\u001b[1;33m\u001b[0m\u001b[1;33m\u001b[0m\u001b[0m\n",
      "\u001b[1;31mPermissionError\u001b[0m: [Errno 13] Permission denied: '.\\\\data'"
     ]
    }
   ],
   "source": [
    "fpath = os.path.join('.',\"data\")\n",
    "fname = \"County_Number_List.pdf\"\n",
    "# Creating a pdf file object.\n",
    "pdf = open(fpath, mode=\"rb\")\n",
    " \n",
    "# Creating pdf reader object.\n",
    "pdf_reader = PyPDF2.PdfFileReader(pdf)\n",
    " \n",
    "# Checking total number of pages in a pdf file.\n",
    "print(\"Total number of Pages:\", pdf_reader.numPages)\n",
    " \n",
    "# Creating a page object.\n",
    "page = pdf_reader.getPage(200)\n",
    " \n",
    "# Extract data from a specific page number.\n",
    "print(page.extractText())\n",
    " \n",
    "# Closing the object.\n",
    "pdf.close()"
   ]
  },
  {
   "cell_type": "code",
   "execution_count": null,
   "metadata": {},
   "outputs": [],
   "source": [
    "# Election Types\n",
    "election_types = {\n",
    "    '001':'GENERAL PRIMARY',\n",
    "    '002':'GENERAL PRIMARY RUN-OFF',\n",
    "    '003':'GENERAL',\n",
    "    '004':'GENERAL ELECTION RUNOFF',\n",
    "    '005':'SPECIAL ELECTION',\n",
    "    '006':'SPECIAL RUNOFF',\n",
    "    '007':'NON- PARTISAN',\n",
    "    '008':'SPECIAL/NON-PARTISAN',\n",
    "    '009': ' RECALL',\n",
    "    '010': 'PPP'\n",
    "    #SPECIAL PRIMARY RUNOFF\n",
    "    #SPECIAL PRIMARY\n",
    "    }"
   ]
  },
  {
   "cell_type": "code",
   "execution_count": null,
   "metadata": {},
   "outputs": [],
   "source": [
    "gcols = ['election_date', 'election_type']\n",
    "df.groupby(gcols).count()"
   ]
  },
  {
   "cell_type": "code",
   "execution_count": 19,
   "metadata": {},
   "outputs": [
    {
     "name": "stderr",
     "output_type": "stream",
     "text": [
      "Error from tabula-java:\n",
      "Error: C:\\Users\\jmull\\Documents\\Github\\ga-votes\\data (Access is denied)\n",
      "\n",
      "\n"
     ]
    },
    {
     "ename": "CalledProcessError",
     "evalue": "Command '['java', '-Dfile.encoding=UTF8', '-jar', 'C:\\\\Users\\\\jmull\\\\anaconda3\\\\lib\\\\site-packages\\\\tabula\\\\tabula-1.0.4-jar-with-dependencies.jar', '--pages', '1', '--guess', '--format', 'JSON', 'C:\\\\Users\\\\jmull\\\\Documents\\\\Github\\\\ga-votes\\\\data']' returned non-zero exit status 1.",
     "output_type": "error",
     "traceback": [
      "\u001b[1;31m---------------------------------------------------------------------------\u001b[0m",
      "\u001b[1;31mCalledProcessError\u001b[0m                        Traceback (most recent call last)",
      "\u001b[1;32m<ipython-input-19-6f2f030bc4a4>\u001b[0m in \u001b[0;36m<module>\u001b[1;34m\u001b[0m\n\u001b[0;32m      6\u001b[0m     \u001b[1;32melif\u001b[0m \u001b[0mfname\u001b[0m \u001b[1;32mnot\u001b[0m \u001b[1;32min\u001b[0m \u001b[0mos\u001b[0m\u001b[1;33m.\u001b[0m\u001b[0mlistdir\u001b[0m\u001b[1;33m(\u001b[0m\u001b[0mfpath\u001b[0m\u001b[1;33m)\u001b[0m\u001b[1;33m:\u001b[0m\u001b[1;33m\u001b[0m\u001b[1;33m\u001b[0m\u001b[0m\n\u001b[0;32m      7\u001b[0m         \u001b[0mwarnings\u001b[0m\u001b[1;33m.\u001b[0m\u001b[0mwarn\u001b[0m\u001b[1;33m(\u001b[0m\u001b[1;34m\"{0} not a file in {1}\"\u001b[0m\u001b[1;33m.\u001b[0m\u001b[0mformat\u001b[0m\u001b[1;33m(\u001b[0m\u001b[0mfname\u001b[0m\u001b[1;33m,\u001b[0m \u001b[0mfpath\u001b[0m\u001b[1;33m)\u001b[0m\u001b[1;33m)\u001b[0m\u001b[1;33m\u001b[0m\u001b[1;33m\u001b[0m\u001b[0m\n\u001b[1;32m----> 8\u001b[1;33m \u001b[0mtable\u001b[0m \u001b[1;33m=\u001b[0m \u001b[0mtabula\u001b[0m\u001b[1;33m.\u001b[0m\u001b[0mread_pdf\u001b[0m\u001b[1;33m(\u001b[0m\u001b[0mfpath\u001b[0m\u001b[1;33m,\u001b[0m\u001b[0mpages\u001b[0m\u001b[1;33m=\u001b[0m\u001b[1;36m1\u001b[0m\u001b[1;33m)\u001b[0m\u001b[1;33m\u001b[0m\u001b[1;33m\u001b[0m\u001b[0m\n\u001b[0m\u001b[0;32m      9\u001b[0m \u001b[0mtable\u001b[0m\u001b[1;33m[\u001b[0m\u001b[1;36m0\u001b[0m\u001b[1;33m]\u001b[0m\u001b[1;33m\u001b[0m\u001b[1;33m\u001b[0m\u001b[0m\n",
      "\u001b[1;32m~\\anaconda3\\lib\\site-packages\\tabula\\io.py\u001b[0m in \u001b[0;36mread_pdf\u001b[1;34m(input_path, output_format, encoding, java_options, pandas_options, multiple_tables, user_agent, **kwargs)\u001b[0m\n\u001b[0;32m    320\u001b[0m \u001b[1;33m\u001b[0m\u001b[0m\n\u001b[0;32m    321\u001b[0m     \u001b[1;32mtry\u001b[0m\u001b[1;33m:\u001b[0m\u001b[1;33m\u001b[0m\u001b[1;33m\u001b[0m\u001b[0m\n\u001b[1;32m--> 322\u001b[1;33m         \u001b[0moutput\u001b[0m \u001b[1;33m=\u001b[0m \u001b[0m_run\u001b[0m\u001b[1;33m(\u001b[0m\u001b[0mjava_options\u001b[0m\u001b[1;33m,\u001b[0m \u001b[0mkwargs\u001b[0m\u001b[1;33m,\u001b[0m \u001b[0mpath\u001b[0m\u001b[1;33m,\u001b[0m \u001b[0mencoding\u001b[0m\u001b[1;33m)\u001b[0m\u001b[1;33m\u001b[0m\u001b[1;33m\u001b[0m\u001b[0m\n\u001b[0m\u001b[0;32m    323\u001b[0m     \u001b[1;32mfinally\u001b[0m\u001b[1;33m:\u001b[0m\u001b[1;33m\u001b[0m\u001b[1;33m\u001b[0m\u001b[0m\n\u001b[0;32m    324\u001b[0m         \u001b[1;32mif\u001b[0m \u001b[0mtemporary\u001b[0m\u001b[1;33m:\u001b[0m\u001b[1;33m\u001b[0m\u001b[1;33m\u001b[0m\u001b[0m\n",
      "\u001b[1;32m~\\anaconda3\\lib\\site-packages\\tabula\\io.py\u001b[0m in \u001b[0;36m_run\u001b[1;34m(java_options, options, path, encoding)\u001b[0m\n\u001b[0;32m     78\u001b[0m \u001b[1;33m\u001b[0m\u001b[0m\n\u001b[0;32m     79\u001b[0m     \u001b[1;32mtry\u001b[0m\u001b[1;33m:\u001b[0m\u001b[1;33m\u001b[0m\u001b[1;33m\u001b[0m\u001b[0m\n\u001b[1;32m---> 80\u001b[1;33m         result = subprocess.run(\n\u001b[0m\u001b[0;32m     81\u001b[0m             \u001b[0margs\u001b[0m\u001b[1;33m,\u001b[0m\u001b[1;33m\u001b[0m\u001b[1;33m\u001b[0m\u001b[0m\n\u001b[0;32m     82\u001b[0m             \u001b[0mstdout\u001b[0m\u001b[1;33m=\u001b[0m\u001b[0msubprocess\u001b[0m\u001b[1;33m.\u001b[0m\u001b[0mPIPE\u001b[0m\u001b[1;33m,\u001b[0m\u001b[1;33m\u001b[0m\u001b[1;33m\u001b[0m\u001b[0m\n",
      "\u001b[1;32m~\\anaconda3\\lib\\subprocess.py\u001b[0m in \u001b[0;36mrun\u001b[1;34m(input, capture_output, timeout, check, *popenargs, **kwargs)\u001b[0m\n\u001b[0;32m    510\u001b[0m         \u001b[0mretcode\u001b[0m \u001b[1;33m=\u001b[0m \u001b[0mprocess\u001b[0m\u001b[1;33m.\u001b[0m\u001b[0mpoll\u001b[0m\u001b[1;33m(\u001b[0m\u001b[1;33m)\u001b[0m\u001b[1;33m\u001b[0m\u001b[1;33m\u001b[0m\u001b[0m\n\u001b[0;32m    511\u001b[0m         \u001b[1;32mif\u001b[0m \u001b[0mcheck\u001b[0m \u001b[1;32mand\u001b[0m \u001b[0mretcode\u001b[0m\u001b[1;33m:\u001b[0m\u001b[1;33m\u001b[0m\u001b[1;33m\u001b[0m\u001b[0m\n\u001b[1;32m--> 512\u001b[1;33m             raise CalledProcessError(retcode, process.args,\n\u001b[0m\u001b[0;32m    513\u001b[0m                                      output=stdout, stderr=stderr)\n\u001b[0;32m    514\u001b[0m     \u001b[1;32mreturn\u001b[0m \u001b[0mCompletedProcess\u001b[0m\u001b[1;33m(\u001b[0m\u001b[0mprocess\u001b[0m\u001b[1;33m.\u001b[0m\u001b[0margs\u001b[0m\u001b[1;33m,\u001b[0m \u001b[0mretcode\u001b[0m\u001b[1;33m,\u001b[0m \u001b[0mstdout\u001b[0m\u001b[1;33m,\u001b[0m \u001b[0mstderr\u001b[0m\u001b[1;33m)\u001b[0m\u001b[1;33m\u001b[0m\u001b[1;33m\u001b[0m\u001b[0m\n",
      "\u001b[1;31mCalledProcessError\u001b[0m: Command '['java', '-Dfile.encoding=UTF8', '-jar', 'C:\\\\Users\\\\jmull\\\\anaconda3\\\\lib\\\\site-packages\\\\tabula\\\\tabula-1.0.4-jar-with-dependencies.jar', '--pages', '1', '--guess', '--format', 'JSON', 'C:\\\\Users\\\\jmull\\\\Documents\\\\Github\\\\ga-votes\\\\data']' returned non-zero exit status 1."
     ]
    }
   ],
   "source": [
    "fpath = os.path.join(os.getcwd(),\"data\")\n",
    "fname = \"County_Number_List.pdf\"\n",
    "if not os.path.isfile(os.path.join(fpath, fname)):\n",
    "    if not os.path.isdir(fpath):\n",
    "        warnings.warn(\"{0} not a directory\".format(fpath))\n",
    "    elif fname not in os.listdir(fpath):\n",
    "        warnings.warn(\"{0} not a file in {1}\".format(fname, fpath))\n",
    "table = tabula.read_pdf(fpath,pages=1)\n",
    "table[0]"
   ]
  },
  {
   "cell_type": "code",
   "execution_count": null,
   "metadata": {},
   "outputs": [],
   "source": []
  }
 ],
 "metadata": {
  "kernelspec": {
   "display_name": "general",
   "language": "python",
   "name": "general"
  },
  "language_info": {
   "codemirror_mode": {
    "name": "ipython",
    "version": 3
   },
   "file_extension": ".py",
   "mimetype": "text/x-python",
   "name": "python",
   "nbconvert_exporter": "python",
   "pygments_lexer": "ipython3",
   "version": "3.8.5"
  }
 },
 "nbformat": 4,
 "nbformat_minor": 4
}
